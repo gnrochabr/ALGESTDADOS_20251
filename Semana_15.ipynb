{
  "nbformat": 4,
  "nbformat_minor": 0,
  "metadata": {
    "colab": {
      "provenance": [],
      "authorship_tag": "ABX9TyObvPcB0k6GFopGjwzaayPY",
      "include_colab_link": true
    },
    "kernelspec": {
      "name": "python3",
      "display_name": "Python 3"
    },
    "language_info": {
      "name": "python"
    }
  },
  "cells": [
    {
      "cell_type": "markdown",
      "metadata": {
        "id": "view-in-github",
        "colab_type": "text"
      },
      "source": [
        "<a href=\"https://colab.research.google.com/github/gnrochabr/ALGESTDADOS_20251/blob/main/Semana_15.ipynb\" target=\"_parent\"><img src=\"https://colab.research.google.com/assets/colab-badge.svg\" alt=\"Open In Colab\"/></a>"
      ]
    },
    {
      "cell_type": "code",
      "execution_count": null,
      "metadata": {
        "id": "8RJFrLgR8qVP"
      },
      "outputs": [],
      "source": [
        "#1 - Peça um número e informe se ele é maior que 10. Crie uma função em Python para fazer essa verificação.\n",
        "def maior10(numero):\n",
        "  if numero > 10:\n",
        "    return 'Maior que 10'"
      ]
    },
    {
      "cell_type": "code",
      "source": [
        "#2 - Peça um número inteiro e informe se ele é par. Crie uma função em Python que verifique se o número é divisível por 2.\n",
        "def par(x):\n",
        "  if x%2 == 0:\n",
        "    return 'par'"
      ],
      "metadata": {
        "id": "dFKodVl5BGA5"
      },
      "execution_count": null,
      "outputs": []
    },
    {
      "cell_type": "code",
      "source": [
        "#3 - Peça um nome e informe se ele contém a letra \"a\". Crie uma função em Python que faça essa verificação.\n",
        "def temA(x):\n",
        "  if 'a' in x:\n",
        "    return 'tem A!'\n"
      ],
      "metadata": {
        "colab": {
          "base_uri": "https://localhost:8080/"
        },
        "id": "tf-QJrKvbBZ2",
        "outputId": "7052b778-b729-44b9-b8b6-ffe9866a82f5"
      },
      "execution_count": null,
      "outputs": [
        {
          "output_type": "stream",
          "name": "stdout",
          "text": [
            "None\n"
          ]
        }
      ]
    },
    {
      "cell_type": "code",
      "source": [
        "#4 - Peça um número e informe se ele é múltiplo de 5. Crie uma função em Python que verifique se o número é divisível por 5.\n",
        "def mult5(x):\n",
        "  if x%5 == 0:\n",
        "    return 'Múltiplo de 5'"
      ],
      "metadata": {
        "colab": {
          "base_uri": "https://localhost:8080/"
        },
        "id": "0P7GxRe6bBcW",
        "outputId": "a6fa6d3c-7765-46d2-a7e9-cb2f5b543c3b"
      },
      "execution_count": null,
      "outputs": [
        {
          "output_type": "stream",
          "name": "stdout",
          "text": [
            "Múltiplo de 5\n"
          ]
        }
      ]
    },
    {
      "cell_type": "code",
      "source": [
        "#5 - Peça a temperatura atual e informe se está quente (acima de 30°C) ou frio (30°C ou menos). Crie uma função em Python para essa verificação.\n",
        "def temp30(temperatura):\n",
        "  if temperatura > 30:\n",
        "    return 'quente'\n",
        "  else:\n",
        "    return 'frio'"
      ],
      "metadata": {
        "id": "Kye-1oM4bBeu"
      },
      "execution_count": null,
      "outputs": []
    },
    {
      "cell_type": "code",
      "source": [
        "#6 - Peça ao usuário para digitar \"S\" para continuar ou \"N\" para sair e informe a ação correspondente. Crie uma função em Python que faça essa validação e exiba a mensagem correta.\n",
        "def continuarSair():\n",
        "  while True:\n",
        "    opcao = input('Digite S para continuar ou N para sair.')\n",
        "    if opcao.lower() == 'n':\n",
        "      print('Saindo...')\n",
        "      break\n",
        "    elif opcao.lower() == 's':\n",
        "      continue\n",
        "    else:\n",
        "      print('Opção inválida')\n",
        "\n"
      ],
      "metadata": {
        "id": "ZMT1_ra7btoK"
      },
      "execution_count": null,
      "outputs": []
    },
    {
      "cell_type": "code",
      "source": [
        "#7 - Peça um número e informe se ele é negativo, zero ou positivo. Crie uma função em Python para classificar o número.\n",
        "def posnegzero(x):\n",
        "  if x == 0:\n",
        "    return 'Zero'\n",
        "  elif x < 0:\n",
        "    return 'Negativo'\n",
        "  else:\n",
        "    return 'Positivo'"
      ],
      "metadata": {
        "id": "SFtIq7U-btyK"
      },
      "execution_count": null,
      "outputs": []
    },
    {
      "cell_type": "code",
      "source": [
        "#8 - Peça um número de 1 a 7 e informe o dia da semana correspondente. Crie uma função em Python que associe o número ao dia correto.\n",
        "def diadasemana(x):\n",
        "  if x == 1:\n",
        "    return 'Domingo'\n",
        "  elif x == 2:\n",
        "    return 'Segunda-feira'\n",
        "  elif x == 3:\n",
        "    return 'Terça-feira'\n",
        "  elif x == 4:\n",
        "    return 'Quarta-feira'\n",
        "  elif x == 5:\n",
        "    return 'Quinta-feira'\n",
        "  elif x == 6:\n",
        "    return 'Sexta-feira'\n",
        "  elif x == 7:\n",
        "    return 'Sábado'\n",
        "  else:\n",
        "    return 'Opção Inválida'"
      ],
      "metadata": {
        "id": "aYJH07kMbBjm"
      },
      "execution_count": null,
      "outputs": []
    },
    {
      "cell_type": "code",
      "source": [
        "#9 - Peça um ano e informe se ele é bissexto. Crie uma função em Python que verifique se o ano é divisível por 4 e não por 100, exceto se também for divisível por 400.\n",
        "def bissexto(ano):\n",
        "  if ano%4 == 0 and ano%100!=0:\n",
        "    return 'Bissexto'\n",
        "  elif ano%400==0:\n",
        "    return 'Bissexto'"
      ],
      "metadata": {
        "colab": {
          "base_uri": "https://localhost:8080/"
        },
        "id": "X8uxQo0gbBmG",
        "outputId": "e7cf5c95-70ca-4b3d-e07e-b524935402e5"
      },
      "execution_count": null,
      "outputs": [
        {
          "output_type": "stream",
          "name": "stdout",
          "text": [
            "None\n"
          ]
        }
      ]
    },
    {
      "cell_type": "code",
      "source": [
        "#10 - Peça a quantidade de horas trabalhadas e o valor por hora. Se trabalhou até 40 horas, calcule o salário normalmente (horas × valor por hora). Se trabalhou mais de 40 horas, as horas extras devem ter um adicional de 50% (horas extras × valor por hora × 1.5). Crie uma função em Python que realize esse cálculo corretamente.\n",
        "def calcSalario(horas,valor):\n",
        "  if horas <= 40:\n",
        "    return horas*valor\n",
        "  else:\n",
        "    return 40*valor + ((horas-40)*valor*1.5)\n",
        "\n",
        "print(calcSalario(42,10))"
      ],
      "metadata": {
        "colab": {
          "base_uri": "https://localhost:8080/"
        },
        "id": "41zy48Q8bBoe",
        "outputId": "03e58edf-667f-4741-e712-b4fbb162f316"
      },
      "execution_count": null,
      "outputs": [
        {
          "output_type": "stream",
          "name": "stdout",
          "text": [
            "430.0\n"
          ]
        }
      ]
    },
    {
      "cell_type": "code",
      "source": [
        "def somaVetor(vetor):\n",
        "  return sum(vetor)\n",
        "\n",
        "def criaVetor10():\n",
        "  vetor = []\n",
        "  for i in range(1,11):\n",
        "    num = int(input(f'Digite o {i}° número: '))\n",
        "    vetor.append(num)\n",
        "  return vetor\n",
        "\n",
        "print(somaVetor(criaVetor10()))"
      ],
      "metadata": {
        "colab": {
          "base_uri": "https://localhost:8080/"
        },
        "id": "I8OiQ-amrfv-",
        "outputId": "1d0973ac-16cf-45d5-84cd-4002abe67fd6"
      },
      "execution_count": null,
      "outputs": [
        {
          "output_type": "stream",
          "name": "stdout",
          "text": [
            "Digite o 1° número: 10\n",
            "Digite o 2° número: 20\n",
            "Digite o 3° número: 30\n",
            "Digite o 4° número: 40\n",
            "Digite o 5° número: 50\n",
            "Digite o 6° número: 60\n",
            "Digite o 7° número: 70\n",
            "Digite o 8° número: 80\n",
            "Digite o 9° número: 90\n",
            "Digite o 10° número: 100\n",
            "550\n"
          ]
        }
      ]
    }
  ]
}
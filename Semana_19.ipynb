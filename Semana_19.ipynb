{
  "nbformat": 4,
  "nbformat_minor": 0,
  "metadata": {
    "colab": {
      "provenance": [],
      "authorship_tag": "ABX9TyMzlHWwRj7P7vyibf1ucFfm",
      "include_colab_link": true
    },
    "kernelspec": {
      "name": "python3",
      "display_name": "Python 3"
    },
    "language_info": {
      "name": "python"
    }
  },
  "cells": [
    {
      "cell_type": "markdown",
      "metadata": {
        "id": "view-in-github",
        "colab_type": "text"
      },
      "source": [
        "<a href=\"https://colab.research.google.com/github/gnrochabr/ALGESTDADOS_20251/blob/main/Semana_19.ipynb\" target=\"_parent\"><img src=\"https://colab.research.google.com/assets/colab-badge.svg\" alt=\"Open In Colab\"/></a>"
      ]
    },
    {
      "cell_type": "code",
      "execution_count": 6,
      "metadata": {
        "colab": {
          "base_uri": "https://localhost:8080/"
        },
        "id": "p5YsxlRNFt4H",
        "outputId": "cfe81fac-4a2f-4d92-f0c0-e85199e695e8"
      },
      "outputs": [
        {
          "output_type": "stream",
          "name": "stdout",
          "text": [
            "[9999, 1002, 1003]\n"
          ]
        }
      ],
      "source": [
        "# ::Q1 - Referência de Listas em Python::\n",
        "# Você está desenvolvendo uma aplicação que processa listas de pedidos.\n",
        "# Durante o teste, percebe que ao alterar uma lista auxiliar, a lista original também foi modificada. O código responsável é:\n",
        "\n",
        "pedidos = [1001, 1002, 1003]\n",
        "controle = pedidos\n",
        "controle[0] = 9999\n",
        "\n",
        "# a) O que será impresso ao executar print(pedidos)?\n",
        "# [9999, 1002, 1003]\n",
        "\n",
        "# b) Explique o motivo técnico desse comportamento.\n",
        "# Quando fazemos controle = pedidos, não estamos criando uma cópia da lista, mas sim uma referência para o mesmo objeto na memória. Assim, alterações feitas em controle afetam pedidos, pois ambas apontam para o mesmo local.\n",
        "\n",
        "# c) Como corrigir esse problema mantendo as listas independentes?\n",
        "controle = pedidos[:]  # ou list(pedidos), ou pedidos.copy()"
      ]
    },
    {
      "cell_type": "code",
      "source": [
        "# ::Q2 - Dicionário e Reajuste de Preços::\n",
        "# Você recebeu um dicionário de produtos e precisa atualizar os preços com base em uma inflação de 8%:\n",
        "\n",
        "produtos = {\"arroz\": 5.50, \"feijão\": 7.30, \"óleo\": 6.80}\n",
        "\n",
        "# a) Código com aumento de 8% nos preços:\n",
        "produtos = {\"arroz\": 5.50, \"feijão\": 7.30, \"óleo\": 6.80}\n",
        "\n",
        "for chave in produtos:\n",
        "    produtos[chave] *= 1.08\n",
        "print(produtos)\n",
        "\n",
        "# b) Estrutura de repetição usada e por quê:\n",
        "# for foi usado para iterar pelas chaves do dicionário e modificar os valores diretamente.\n",
        "\n",
        "# c) O que acontece se usarmos produtos.items() no for?\n",
        "# produtos.items() retorna pares (chave, valor), úteis para leitura, mas como queremos alterar os valores, ainda precisamos acessar via chave:\n",
        "for chave, valor in produtos.items():\n",
        "    produtos[chave] = valor * 1.08\n",
        "print(produtos)"
      ],
      "metadata": {
        "colab": {
          "base_uri": "https://localhost:8080/"
        },
        "id": "CAPAyG2lGguR",
        "outputId": "6fd75869-752a-4465-e31b-45a4a649a127"
      },
      "execution_count": 15,
      "outputs": [
        {
          "output_type": "stream",
          "name": "stdout",
          "text": [
            "{'arroz': 5.94, 'feijão': 7.884, 'óleo': 7.344}\n"
          ]
        }
      ]
    },
    {
      "cell_type": "code",
      "source": [
        "# ::Q3 - Remoção de Duplicatas com Conjunto::\n",
        "# Imagine que você criou um sistema de cadastro de visitantes para um evento,\n",
        "# mas os nomes foram digitados com duplicidade:\n",
        "\n",
        "visitantes = [\"Ana\", \"João\", \"Ana\", \"Maria\", \"João\", \"Carlos\"]\n",
        "\n",
        "# a) Programa:\n",
        "visitantes = [\"Ana\", \"João\", \"Ana\", \"Maria\", \"João\", \"Carlos\"]\n",
        "unicos = set(visitantes) #converte em conjunto\n",
        "print(f\"Número de visitantes únicos: {len(unicos)}\")\n",
        "print(f\"Visitantes: {unicos}\")\n",
        "\n",
        "# b) Justificativa do uso de set():\n",
        "# set() remove automaticamente elementos duplicados, pois um conjunto só pode conter valores únicos.\n",
        "\n",
        "# c) Limitação:\n",
        "# Um conjunto não preserva a ordem original da lista, o que pode ser importante em certas aplicações.\n"
      ],
      "metadata": {
        "colab": {
          "base_uri": "https://localhost:8080/"
        },
        "id": "DMLgpfLGGijo",
        "outputId": "36d09e62-e14a-4f20-e141-1ba238c45272"
      },
      "execution_count": 18,
      "outputs": [
        {
          "output_type": "stream",
          "name": "stdout",
          "text": [
            "Número de visitantes únicos: 4\n",
            "Visitantes: ('Ana', 'Maria', 'João', 'Carlos')\n"
          ]
        }
      ]
    },
    {
      "cell_type": "code",
      "source": [
        "# ::Q4 - Pandas e Leitura de Arquivos Excel::\n",
        "# Um cientista de dados precisa inspecionar os primeiros registros de um arquivo Excel\n",
        "# com dados sobre temperatura. Ele carrega o DataFrame com Pandas e quer visualizar as\n",
        "# 5 primeiras linhas.\n",
        "\n",
        "# a) Comando correto para leitura:\n",
        "import pandas as pd\n",
        "df = pd.read_excel(\"arquivo.xlsx\")\n",
        "\n",
        "# b) Função que retorna as 5 primeiras linhas:\n",
        "df.head(5)\n",
        "\n",
        "# c) Últimas 3 linhas:\n",
        "df.tail(3)\n",
        ""
      ],
      "metadata": {
        "id": "od2wjD-MGmKg"
      },
      "execution_count": null,
      "outputs": []
    },
    {
      "cell_type": "code",
      "source": [
        "#::Q5 - Entrada de Dados e Processamento com Conjuntos::\n",
        "# Você precisa criar um programa interativo que solicite ao usuário números separados por vírgula, elimine os duplicados\n",
        "# e mostre a quantidade de elementos únicos e os valores ordenados.\n",
        "\n",
        "# a) Código:\n",
        "entrada = input(\"Digite números separados por vírgula: \")\n",
        "numeros = list(map(int, entrada.split(\",\")))\n",
        "unicos = sorted(set(numeros))\n",
        "print(f\"Números únicos ({len(unicos)}): {unicos}\")\n",
        "\n",
        "# b) Conversões de dados:\n",
        "# split(\",\") #transforma a string em lista de strings\n",
        "# map(int, ...) #converte para inteiros\n",
        "# set() #remove duplicatas\n",
        "# sorted() #ordena os dados\n",
        "\n",
        "# c) Justificativa da ordenação:\n",
        "# Conjuntos são não ordenados. A ordenação facilita a leitura e verificação dos resultados pelo usuário."
      ],
      "metadata": {
        "colab": {
          "base_uri": "https://localhost:8080/"
        },
        "id": "ikAtub-uGpko",
        "outputId": "17e18dbd-f69d-4741-a428-0b7d637de769"
      },
      "execution_count": 23,
      "outputs": [
        {
          "output_type": "stream",
          "name": "stdout",
          "text": [
            "Digite números separados por vírgula: 17,17,15,14,14,16,18,18\n",
            "Números únicos (5): [14, 15, 16, 17, 18]\n"
          ]
        }
      ]
    }
  ]
}
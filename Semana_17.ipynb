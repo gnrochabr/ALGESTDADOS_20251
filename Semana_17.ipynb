{
  "nbformat": 4,
  "nbformat_minor": 0,
  "metadata": {
    "colab": {
      "provenance": [],
      "authorship_tag": "ABX9TyPkM09aTTLbErr+EOYcfdcA",
      "include_colab_link": true
    },
    "kernelspec": {
      "name": "python3",
      "display_name": "Python 3"
    },
    "language_info": {
      "name": "python"
    }
  },
  "cells": [
    {
      "cell_type": "markdown",
      "metadata": {
        "id": "view-in-github",
        "colab_type": "text"
      },
      "source": [
        "<a href=\"https://colab.research.google.com/github/gnrochabr/ALGESTDADOS_20251/blob/main/Semana_17.ipynb\" target=\"_parent\"><img src=\"https://colab.research.google.com/assets/colab-badge.svg\" alt=\"Open In Colab\"/></a>"
      ]
    },
    {
      "cell_type": "code",
      "source": [
        "pip install pandas"
      ],
      "metadata": {
        "colab": {
          "base_uri": "https://localhost:8080/"
        },
        "id": "WCw1AUgHBcnf",
        "outputId": "ab0b5a13-b53d-4414-9d90-58883a10854d"
      },
      "execution_count": 1,
      "outputs": [
        {
          "output_type": "stream",
          "name": "stdout",
          "text": [
            "Requirement already satisfied: pandas in /usr/local/lib/python3.11/dist-packages (2.2.2)\n",
            "Requirement already satisfied: numpy>=1.23.2 in /usr/local/lib/python3.11/dist-packages (from pandas) (2.0.2)\n",
            "Requirement already satisfied: python-dateutil>=2.8.2 in /usr/local/lib/python3.11/dist-packages (from pandas) (2.9.0.post0)\n",
            "Requirement already satisfied: pytz>=2020.1 in /usr/local/lib/python3.11/dist-packages (from pandas) (2025.2)\n",
            "Requirement already satisfied: tzdata>=2022.7 in /usr/local/lib/python3.11/dist-packages (from pandas) (2025.2)\n",
            "Requirement already satisfied: six>=1.5 in /usr/local/lib/python3.11/dist-packages (from python-dateutil>=2.8.2->pandas) (1.17.0)\n"
          ]
        }
      ]
    },
    {
      "cell_type": "code",
      "execution_count": 53,
      "metadata": {
        "colab": {
          "base_uri": "https://localhost:8080/"
        },
        "id": "FkRvGI8xBY83",
        "outputId": "7d03e706-899d-4edd-fb43-79ad153508a8"
      },
      "outputs": [
        {
          "output_type": "stream",
          "name": "stdout",
          "text": [
            "1 - Resumo das vendas por categorias:\n",
            " Categoria\n",
            "Calçados       600\n",
            "Eletrônico    3700\n",
            "Roupas         310\n",
            "Name: Vendas, dtype: int64\n",
            "\n",
            "2 - O Produto de maior receita é: TV\n",
            "\n",
            "3 - Vendas do dia 11/01/2024:\n",
            "   Produto Categoria  Preço  Quantidade Data_da_Venda  Vendas\n",
            "1   Calça    Roupas     80           2    2024-01-11     160\n",
            "4   Tênis  Calçados    300           2    2024-01-11     600\n"
          ]
        }
      ],
      "source": [
        "import pandas as pd\n",
        "#Modo de Criação de Arquivos Excel\n",
        "#Criando a planilha do exercício:\n",
        "dados = {\n",
        "    'Produto':['Camiseta','Calça','Celular','TV','Tênis'],\n",
        "    'Categoria':['Roupas','Roupas','Eletrônico','Eletrônico','Calçados'],\n",
        "    'Preço':[50,80,1200,2500,300],\n",
        "    'Quantidade':[3,2,1,1,2],\n",
        "    'Data_da_Venda':[\"2024-01-10\",\"2024-01-11\",\"2024-01-10\",\"2024-01-12\",\"2024-01-11\"]\n",
        "}\n",
        "#Convertendo em formato compatível para Excel\n",
        "dados_vendas = pd.DataFrame(dados) #pd -> Pandas\n",
        "#Salvando o arquivo em formato Excel\n",
        "dados_vendas.to_excel('vendas.xlsx', index=False)\n",
        "\n",
        "#-------------------------------------------------------------------------------\n",
        "\n",
        "#Modo de Consulta de Arquivos Excel\n",
        "#Lendo o arquivo Excel para consultas\n",
        "dados_vendas = pd.read_excel(\"vendas.xlsx\")\n",
        "\n",
        "#1 - Calcular o total de vendas por categoria.\n",
        "dados_vendas['Vendas'] = dados_vendas['Preço']*dados_vendas['Quantidade']\n",
        "venda_categoria = dados_vendas.groupby('Categoria')['Vendas'].sum()\n",
        "print('1 - Resumo das vendas por categorias:\\n',venda_categoria)\n",
        "\n",
        "#2 - Identificar o produto com maior receita (preço × quantidade).\n",
        "maior_receita = dados_vendas.loc[dados_vendas['Vendas'].idxmax()]\n",
        "print('\\n2 - O Produto de maior receita é:',maior_receita['Produto'])\n",
        "\n",
        "#3 - Listar as vendas feitas no dia 2024-01-11.\n",
        "venda_dia = dados_vendas.loc[dados_vendas['Data_da_Venda'] == '2024-01-11']\n",
        "print('\\n3 - Vendas do dia 11/01/2024:\\n',venda_dia)\n"
      ]
    },
    {
      "cell_type": "code",
      "source": [],
      "metadata": {
        "id": "i0jg8NCeLemQ"
      },
      "execution_count": null,
      "outputs": []
    }
  ]
}
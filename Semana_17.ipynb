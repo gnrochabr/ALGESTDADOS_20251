{
  "nbformat": 4,
  "nbformat_minor": 0,
  "metadata": {
    "colab": {
      "provenance": [],
      "authorship_tag": "ABX9TyMrM1Nf9OBNC0LaXsOihCmu",
      "include_colab_link": true
    },
    "kernelspec": {
      "name": "python3",
      "display_name": "Python 3"
    },
    "language_info": {
      "name": "python"
    }
  },
  "cells": [
    {
      "cell_type": "markdown",
      "metadata": {
        "id": "view-in-github",
        "colab_type": "text"
      },
      "source": [
        "<a href=\"https://colab.research.google.com/github/gnrochabr/ALGESTDADOS_20251/blob/main/Semana_17.ipynb\" target=\"_parent\"><img src=\"https://colab.research.google.com/assets/colab-badge.svg\" alt=\"Open In Colab\"/></a>"
      ]
    },
    {
      "cell_type": "code",
      "source": [
        "pip install pandas"
      ],
      "metadata": {
        "colab": {
          "base_uri": "https://localhost:8080/"
        },
        "id": "WCw1AUgHBcnf",
        "outputId": "ab0b5a13-b53d-4414-9d90-58883a10854d"
      },
      "execution_count": 1,
      "outputs": [
        {
          "output_type": "stream",
          "name": "stdout",
          "text": [
            "Requirement already satisfied: pandas in /usr/local/lib/python3.11/dist-packages (2.2.2)\n",
            "Requirement already satisfied: numpy>=1.23.2 in /usr/local/lib/python3.11/dist-packages (from pandas) (2.0.2)\n",
            "Requirement already satisfied: python-dateutil>=2.8.2 in /usr/local/lib/python3.11/dist-packages (from pandas) (2.9.0.post0)\n",
            "Requirement already satisfied: pytz>=2020.1 in /usr/local/lib/python3.11/dist-packages (from pandas) (2025.2)\n",
            "Requirement already satisfied: tzdata>=2022.7 in /usr/local/lib/python3.11/dist-packages (from pandas) (2025.2)\n",
            "Requirement already satisfied: six>=1.5 in /usr/local/lib/python3.11/dist-packages (from python-dateutil>=2.8.2->pandas) (1.17.0)\n"
          ]
        }
      ]
    },
    {
      "cell_type": "code",
      "execution_count": 53,
      "metadata": {
        "colab": {
          "base_uri": "https://localhost:8080/"
        },
        "id": "FkRvGI8xBY83",
        "outputId": "7d03e706-899d-4edd-fb43-79ad153508a8"
      },
      "outputs": [
        {
          "output_type": "stream",
          "name": "stdout",
          "text": [
            "1 - Resumo das vendas por categorias:\n",
            " Categoria\n",
            "Calçados       600\n",
            "Eletrônico    3700\n",
            "Roupas         310\n",
            "Name: Vendas, dtype: int64\n",
            "\n",
            "2 - O Produto de maior receita é: TV\n",
            "\n",
            "3 - Vendas do dia 11/01/2024:\n",
            "   Produto Categoria  Preço  Quantidade Data_da_Venda  Vendas\n",
            "1   Calça    Roupas     80           2    2024-01-11     160\n",
            "4   Tênis  Calçados    300           2    2024-01-11     600\n"
          ]
        }
      ],
      "source": [
        "import pandas as pd\n",
        "#Modo de Criação de Arquivos Excel\n",
        "#Criando a planilha do exercício:\n",
        "dados = {\n",
        "    'Produto':['Camiseta','Calça','Celular','TV','Tênis'],\n",
        "    'Categoria':['Roupas','Roupas','Eletrônico','Eletrônico','Calçados'],\n",
        "    'Preço':[50,80,1200,2500,300],\n",
        "    'Quantidade':[3,2,1,1,2],\n",
        "    'Data_da_Venda':[\"2024-01-10\",\"2024-01-11\",\"2024-01-10\",\"2024-01-12\",\"2024-01-11\"]\n",
        "}\n",
        "#Convertendo em formato compatível para Excel\n",
        "dados_vendas = pd.DataFrame(dados) #pd -> Pandas\n",
        "#Salvando o arquivo em formato Excel\n",
        "dados_vendas.to_excel('vendas.xlsx', index=False)\n",
        "\n",
        "#-------------------------------------------------------------------------------\n",
        "\n",
        "#Modo de Consulta de Arquivos Excel\n",
        "#Lendo o arquivo Excel para consultas\n",
        "dados_vendas = pd.read_excel(\"vendas.xlsx\")\n",
        "\n",
        "#1 - Calcular o total de vendas por categoria.\n",
        "dados_vendas['Vendas'] = dados_vendas['Preço']*dados_vendas['Quantidade']\n",
        "venda_categoria = dados_vendas.groupby('Categoria')['Vendas'].sum()\n",
        "print('1 - Resumo das vendas por categorias:\\n',venda_categoria)\n",
        "\n",
        "#2 - Identificar o produto com maior receita (preço × quantidade).\n",
        "maior_receita = dados_vendas.loc[dados_vendas['Vendas'].idxmax()]\n",
        "print('\\n2 - O Produto de maior receita é:',maior_receita['Produto'])\n",
        "\n",
        "#3 - Listar as vendas feitas no dia 2024-01-11.\n",
        "venda_dia = dados_vendas.loc[dados_vendas['Data_da_Venda'] == '2024-01-11']\n",
        "print('\\n3 - Vendas do dia 11/01/2024:\\n',venda_dia)\n"
      ]
    },
    {
      "cell_type": "code",
      "source": [
        "alunos = {\n",
        "    \"Nome\": [\"Ana Lima\", \"Bruno Castro\", \"Carla Souza\", \"Daniel Alves\", \"Elisa Martins\"],\n",
        "    \"Curso\": [\"Informática\", \"Informática\", \"Administração\", \"Administração\", \"Informática\"],\n",
        "    \"Nota1\": [8.0, 5.5, 9.0, 6.0, 10.0],\n",
        "    \"Nota2\": [9.0, 6.0, 9.5, 5.5, 9.5],\n",
        "    \"Faltas\": [2, 5, 0, 3, 1]\n",
        "}\n",
        "#Convertendo em formato compatível para Excel\n",
        "dados_alunos = pd.DataFrame(alunos) #pd -> Pandas\n",
        "#Salvando o arquivo em formato Excel\n",
        "dados_alunos.to_excel('alunos.xlsx', index=False)\n",
        "#Lendo o arquivo Excel para consultas\n",
        "dados_alunos = pd.read_excel(\"alunos.xlsx\")\n",
        "\n",
        "#1 - Listar os alunos aprovados (média maior ou igual a 7 e faltas menores ou iguais a 3).\n",
        "dados_alunos['Média'] = (dados_alunos['Nota1'] + dados_alunos['Nota2'])/2\n",
        "#aprovados = localizar[(alunos com média >= 7) e (alunos com faltas <= 3)]\n",
        "aprovados = dados_alunos.loc[(dados_alunos['Média']>=7) & (dados_alunos['Faltas']<=3)]\n",
        "print('#1\\n',aprovados)\n",
        "\n",
        "#2 - Calcular a média geral por curso.\n",
        "media_curso = dados_alunos.groupby('Curso')['Média'].mean()\n",
        "print('\\n#2\\n',media_curso)\n",
        "\n",
        "#3 - Identificar o aluno com a menor média.\n",
        "menos_cdf = dados_alunos.loc[dados_alunos['Média'].idxmin()]\n",
        "print('\\n#3 - O aluno com a menor média é o:',menos_cdf.Nome)"
      ],
      "metadata": {
        "colab": {
          "base_uri": "https://localhost:8080/"
        },
        "id": "i0jg8NCeLemQ",
        "outputId": "819471bb-d1c3-4877-d7f4-2eec52aeea98"
      },
      "execution_count": 78,
      "outputs": [
        {
          "output_type": "stream",
          "name": "stdout",
          "text": [
            "#1\n",
            "             Nome          Curso  Nota1  Nota2  Faltas  Média\n",
            "0       Ana Lima    Informática    8.0    9.0       2   8.50\n",
            "2    Carla Souza  Administração    9.0    9.5       0   9.25\n",
            "4  Elisa Martins    Informática   10.0    9.5       1   9.75\n",
            "\n",
            "#2\n",
            " Curso\n",
            "Administração    7.5\n",
            "Informática      8.0\n",
            "Name: Média, dtype: float64\n",
            "\n",
            "#3 - O aluno com a menor média é o: Bruno Castro\n"
          ]
        }
      ]
    },
    {
      "cell_type": "code",
      "source": [
        "estoque = {\n",
        "    \"Produto\": [\"Papel A4\", \"Cartucho HP\", \"Teclado USB\", \"Mouse Óptico\", 'Monitor 24\"'],\n",
        "    \"Fornecedor\": [\"Office Paper\", \"HP Brasil\", \"TecWorld\", \"TecWorld\", \"LG\"],\n",
        "    \"Estoque\": [500, 15, 50, 20, 8],\n",
        "    \"Preço Unitário\": [25, 120, 70, 45, 950]\n",
        "}\n",
        "#Convertendo em formato compatível para Excel\n",
        "dados_estoque = pd.DataFrame(estoque) #pd -> Pandas\n",
        "#Salvando o arquivo em formato Excel\n",
        "dados_estoque.to_excel('estoque.xlsx', index=False)\n",
        "#Lendo o arquivo Excel para consultas\n",
        "dados_estoque = pd.read_excel(\"estoque.xlsx\")\n",
        "\n",
        "#1 - Listar os produtos com estoque abaixo de 20 unidades.\n",
        "estoque_baixo = dados_estoque.loc[dados_estoque['Estoque']<20]\n",
        "print('#1 -Produtos com estoque abaixo de 20:\\n',estoque_baixo)\n",
        "\n",
        "#2 - Calcular o valor total em estoque por fornecedor.\n",
        "dados_estoque['Valor_Total'] = dados_estoque['Estoque']*dados_estoque['Preço Unitário']\n",
        "valor_fornecedor = dados_estoque.groupby('Fornecedor')['Valor_Total'].sum()\n",
        "print('\\n#2 - Valor por fornecedor em estoque',valor_fornecedor)\n",
        "#3 - Identificar o produto mais caro em valor total (preço × estoque).\n",
        "produto_caro = dados_estoque.loc[dados_estoque['Valor_Total'].idxmax()]\n",
        "print('\\n#3 - O produto mais caro é:',produto_caro.Produto)"
      ],
      "metadata": {
        "colab": {
          "base_uri": "https://localhost:8080/"
        },
        "id": "WF9aBBPJOLBU",
        "outputId": "6e5ad964-6eec-4bc7-9dd5-5169af33e904"
      },
      "execution_count": 89,
      "outputs": [
        {
          "output_type": "stream",
          "name": "stdout",
          "text": [
            "#1 -Produtos com estoque abaixo de 20:\n",
            "        Produto Fornecedor  Estoque  Preço Unitário\n",
            "1  Cartucho HP  HP Brasil       15             120\n",
            "4  Monitor 24\"         LG        8             950\n",
            "\n",
            "#2 - Valor por fornecedor em estoque Fornecedor\n",
            "HP Brasil        1800\n",
            "LG               7600\n",
            "Office Paper    12500\n",
            "TecWorld         4400\n",
            "Name: Valor_Total, dtype: int64\n",
            "\n",
            "#3 - O produto mais caro é: Papel A4\n"
          ]
        }
      ]
    }
  ]
}
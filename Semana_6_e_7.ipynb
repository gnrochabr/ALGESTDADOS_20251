{
  "nbformat": 4,
  "nbformat_minor": 0,
  "metadata": {
    "colab": {
      "provenance": [],
      "authorship_tag": "ABX9TyM5EHTxhPp2I/TEGEn/AsOs",
      "include_colab_link": true
    },
    "kernelspec": {
      "name": "python3",
      "display_name": "Python 3"
    },
    "language_info": {
      "name": "python"
    }
  },
  "cells": [
    {
      "cell_type": "markdown",
      "metadata": {
        "id": "view-in-github",
        "colab_type": "text"
      },
      "source": [
        "<a href=\"https://colab.research.google.com/github/gnrochabr/ALGESTDADOS_20251/blob/main/Semana_6_e_7.ipynb\" target=\"_parent\"><img src=\"https://colab.research.google.com/assets/colab-badge.svg\" alt=\"Open In Colab\"/></a>"
      ]
    },
    {
      "cell_type": "code",
      "execution_count": null,
      "metadata": {
        "id": "SHa_JEDCGDyh"
      },
      "outputs": [],
      "source": [
        "#1 - Escreva um programa que imprima os números de 1 a 10 utilizando um loop while.\n",
        "numero = 1\n",
        "while numero <= 10:\n",
        "  print(numero)\n",
        "  numero+=1"
      ]
    },
    {
      "cell_type": "code",
      "source": [
        "#2 - Escreva um programa que imprima os números de 1 a 10 utilizando um loop for com range().\n",
        "for num in range(1,11):\n",
        "  print(num)"
      ],
      "metadata": {
        "id": "yffUGYpFGMQS"
      },
      "execution_count": null,
      "outputs": []
    },
    {
      "cell_type": "code",
      "source": [
        "#3 - Crie um loop for que percorra uma lista de frutas e imprima cada uma delas.\n",
        "frutas = ['maçã','banana','kiwi','morango']\n",
        "for i in range(len(frutas)):\n",
        "  print(frutas[i])"
      ],
      "metadata": {
        "id": "eAxleRT1GMbK"
      },
      "execution_count": null,
      "outputs": []
    },
    {
      "cell_type": "code",
      "source": [
        "#4 - Utilize um while para imprimir os números pares de 0 a 20.\n",
        "number = 0\n",
        "while number <=20:\n",
        "  if number%2==0:\n",
        "    print(number)\n",
        "  number+=1"
      ],
      "metadata": {
        "id": "c18e4glnGMkp"
      },
      "execution_count": null,
      "outputs": []
    },
    {
      "cell_type": "code",
      "source": [
        "#5 - Crie um loop for que utilize enumerate() para exibir os índices e valores de uma lista de nomes.\n",
        "pessoas = ['Fulano','Cicrano','Beltrano','Diltrano']\n",
        "for posicao, nome in enumerate(pessoas):\n",
        "  print(f'{posicao}: {nome}')"
      ],
      "metadata": {
        "id": "8Bv7NiLbGMqy"
      },
      "execution_count": null,
      "outputs": []
    },
    {
      "cell_type": "code",
      "source": [
        "#6 - Escreva um programa que peça um número ao usuário e continue pedindo até que o usuário digite um número positivo.\n",
        "digito = 0\n",
        "while True:\n",
        "  digito = int(input('Digite um numero: '))\n",
        "  if digito > 0:\n",
        "    break"
      ],
      "metadata": {
        "id": "u1axWYF6GMvZ"
      },
      "execution_count": null,
      "outputs": []
    },
    {
      "cell_type": "code",
      "source": [
        "#7 - Escreva um loop for que conte de 10 até 0 e, ao final, imprima \"Fim!\".\n",
        "for i in range(10,0,-1):\n",
        "  print(i)\n",
        "print('Fim!')"
      ],
      "metadata": {
        "id": "q7nCEZz6GM0R"
      },
      "execution_count": null,
      "outputs": []
    },
    {
      "cell_type": "code",
      "source": [
        "#8 - Escreva um programa que use um while para calcular a soma dos números de 1 a 100.\n",
        "n = 1\n",
        "soma = 0\n",
        "while n<=100:\n",
        "  soma+=n\n",
        "  n+=1\n",
        "print(soma)"
      ],
      "metadata": {
        "id": "9fANTQciGM4x"
      },
      "execution_count": null,
      "outputs": []
    },
    {
      "cell_type": "code",
      "source": [
        "#9 - Modifique o exercício anterior para parar a soma se o total ultrapassar 1000, usando break.\n",
        "n = 1\n",
        "soma = 0\n",
        "while n<=100:\n",
        "  soma+=n\n",
        "  n+=1\n",
        "  if soma > 1000:\n",
        "    break\n",
        "print(soma)"
      ],
      "metadata": {
        "colab": {
          "base_uri": "https://localhost:8080/"
        },
        "id": "-NN_oFy6GM9C",
        "outputId": "da4d56d4-7f13-4165-9471-72c5a5933ac4"
      },
      "execution_count": null,
      "outputs": [
        {
          "output_type": "stream",
          "name": "stdout",
          "text": [
            "1035\n"
          ]
        }
      ]
    },
    {
      "cell_type": "code",
      "source": [
        "#10 - Crie um programa que peça ao usuário para digitar palavras e as adicione a uma lista até que ele digite \"sair\".\n",
        "palavra = ' '\n",
        "palavras = []\n",
        "while palavra.upper()!= 'SAIR':\n",
        "  palavra = input('Digite a palavra')\n",
        "  palavras.append(palavra)\n",
        "print(palavras)"
      ],
      "metadata": {
        "id": "QffTiE_8GNBJ"
      },
      "execution_count": null,
      "outputs": []
    },
    {
      "cell_type": "code",
      "source": [
        "#11 - Escreva um loop que percorra os números de 1 a 50 e imprima \"Fizz\" para múltiplos de 3, \"Buzz\" para múltiplos de 5 e \"FizzBuzz\" para múltiplos de ambos.\n",
        "for i in range(1,51): #Para no 51 (1 a 50)\n",
        "  if i%3 == 0 and i%5==0: #Se divisível por 3 e 5\n",
        "    print('FizzBuzz')\n",
        "  elif i%3==0: #se divisível apenas por 3\n",
        "    print('Fizz')\n",
        "  elif i%5==0: #se divisível apenas por 5\n",
        "    print('Buzz')\n",
        "  else: #Se não for divisível por ninguém\n",
        "    print(i)\n"
      ],
      "metadata": {
        "id": "mwEy70tUGNFB"
      },
      "execution_count": null,
      "outputs": []
    },
    {
      "cell_type": "code",
      "source": [
        "#12 - Utilize um for e in para contar quantas vogais existem em uma string fornecida pelo usuário.\n",
        "habla = input('Habla conmigo: ') #Leitura da palavra desejada\n",
        "contador = 0 #contador de vogais começando de zero\n",
        "for i in range(len(habla)): #para i até o tamanho da palavra\n",
        "  if habla[i].lower() in 'aeiou': #se a letra em minusculo está em 'aeiou'\n",
        "    contador+=1 #incrementa a quantidade de vogais\n",
        "print(f'A palavra possui {contador} vogais!') #resposta final\n"
      ],
      "metadata": {
        "id": "MP8TYnxiGNIi",
        "colab": {
          "base_uri": "https://localhost:8080/"
        },
        "outputId": "7172ad46-65ec-45f5-978f-b3f8267ca6cb"
      },
      "execution_count": 4,
      "outputs": [
        {
          "output_type": "stream",
          "name": "stdout",
          "text": [
            "Habla conmigo: aeiou\n",
            "A palavra possui 5 vogais!\n"
          ]
        }
      ]
    },
    {
      "cell_type": "code",
      "source": [
        "#13 - Crie um jogo de adivinhação onde o computador escolhe um número entre 1 e 100 e o usuário deve adivinhar. O programa deve dar dicas se o número é maior ou menor.\n",
        "import random #importa a biblioteca de número randomicos (aleatórios)\n",
        "sorteio = random.randint(1,101) #Define que os números sorteados são de 1 a 100\n",
        "\n",
        "while True: #Enquanto não achar o valor correto\n",
        "  palpite = int(input('Digite seu palpite:')) #lê o palpite\n",
        "  if palpite < sorteio: #se o palpite for menor que o sorteado\n",
        "    print('O número sorteado é maior!')\n",
        "  elif palpite > sorteio:#se o palpite for maior que o sorteado\n",
        "    print('O número sorteado é menor!')\n",
        "  else: #Se acertar o palpite\n",
        "    print('Parabéns! Congratulations!')\n",
        "    break #Para de rodar o loop while\n"
      ],
      "metadata": {
        "id": "aVndfongGNQi",
        "colab": {
          "base_uri": "https://localhost:8080/"
        },
        "outputId": "dea54557-619e-4eae-8805-ddece6096ffd"
      },
      "execution_count": 6,
      "outputs": [
        {
          "output_type": "stream",
          "name": "stdout",
          "text": [
            "Digite seu palpite:12\n",
            "O número sorteado é maior!\n",
            "Digite seu palpite:99\n",
            "O número sorteado é menor!\n",
            "Digite seu palpite:50\n",
            "O número sorteado é menor!\n",
            "Digite seu palpite:25\n",
            "O número sorteado é menor!\n",
            "Digite seu palpite:15\n",
            "O número sorteado é maior!\n",
            "Digite seu palpite:20\n",
            "Parabéns! Congratulations!\n"
          ]
        }
      ]
    },
    {
      "cell_type": "code",
      "source": [
        "#14 - Escreva um programa que utilize while e continue para exibir apenas os números ímpares de 1 a 30.\n",
        "i = 0\n",
        "while i<30 :\n",
        "  i+=1\n",
        "  if i%2==0:\n",
        "    continue\n",
        "  print(i)"
      ],
      "metadata": {
        "id": "f_EbF4iTGNUp",
        "colab": {
          "base_uri": "https://localhost:8080/"
        },
        "outputId": "8ca11d16-ba80-41a4-bbe1-806a3c8775b2"
      },
      "execution_count": 19,
      "outputs": [
        {
          "output_type": "stream",
          "name": "stdout",
          "text": [
            "1\n",
            "3\n",
            "5\n",
            "7\n",
            "9\n",
            "11\n",
            "13\n",
            "15\n",
            "17\n",
            "19\n",
            "21\n",
            "23\n",
            "25\n",
            "27\n",
            "29\n"
          ]
        }
      ]
    },
    {
      "cell_type": "code",
      "source": [
        "#15 - Crie uma tabela de multiplicação de 1 a 10 utilizando loops aninhados.\n",
        "for i in range(1,11):\n",
        "  print(f'Tabuada de {i}:')\n",
        "  for j in range(1,11):\n",
        "    print(f'{i} x {j} = {i*j}')\n",
        "  print('-------------------')"
      ],
      "metadata": {
        "id": "umOcba7-Gdl7",
        "colab": {
          "base_uri": "https://localhost:8080/"
        },
        "outputId": "5dba22ea-ca2c-4f0d-cdeb-c35911f6e5ce"
      },
      "execution_count": 25,
      "outputs": [
        {
          "output_type": "stream",
          "name": "stdout",
          "text": [
            "Tabuada de 1:\n",
            "1 x 1 = 1\n",
            "1 x 2 = 2\n",
            "1 x 3 = 3\n",
            "1 x 4 = 4\n",
            "1 x 5 = 5\n",
            "1 x 6 = 6\n",
            "1 x 7 = 7\n",
            "1 x 8 = 8\n",
            "1 x 9 = 9\n",
            "1 x 10 = 10\n",
            "-------------------\n",
            "Tabuada de 2:\n",
            "2 x 1 = 2\n",
            "2 x 2 = 4\n",
            "2 x 3 = 6\n",
            "2 x 4 = 8\n",
            "2 x 5 = 10\n",
            "2 x 6 = 12\n",
            "2 x 7 = 14\n",
            "2 x 8 = 16\n",
            "2 x 9 = 18\n",
            "2 x 10 = 20\n",
            "-------------------\n",
            "Tabuada de 3:\n",
            "3 x 1 = 3\n",
            "3 x 2 = 6\n",
            "3 x 3 = 9\n",
            "3 x 4 = 12\n",
            "3 x 5 = 15\n",
            "3 x 6 = 18\n",
            "3 x 7 = 21\n",
            "3 x 8 = 24\n",
            "3 x 9 = 27\n",
            "3 x 10 = 30\n",
            "-------------------\n",
            "Tabuada de 4:\n",
            "4 x 1 = 4\n",
            "4 x 2 = 8\n",
            "4 x 3 = 12\n",
            "4 x 4 = 16\n",
            "4 x 5 = 20\n",
            "4 x 6 = 24\n",
            "4 x 7 = 28\n",
            "4 x 8 = 32\n",
            "4 x 9 = 36\n",
            "4 x 10 = 40\n",
            "-------------------\n",
            "Tabuada de 5:\n",
            "5 x 1 = 5\n",
            "5 x 2 = 10\n",
            "5 x 3 = 15\n",
            "5 x 4 = 20\n",
            "5 x 5 = 25\n",
            "5 x 6 = 30\n",
            "5 x 7 = 35\n",
            "5 x 8 = 40\n",
            "5 x 9 = 45\n",
            "5 x 10 = 50\n",
            "-------------------\n",
            "Tabuada de 6:\n",
            "6 x 1 = 6\n",
            "6 x 2 = 12\n",
            "6 x 3 = 18\n",
            "6 x 4 = 24\n",
            "6 x 5 = 30\n",
            "6 x 6 = 36\n",
            "6 x 7 = 42\n",
            "6 x 8 = 48\n",
            "6 x 9 = 54\n",
            "6 x 10 = 60\n",
            "-------------------\n",
            "Tabuada de 7:\n",
            "7 x 1 = 7\n",
            "7 x 2 = 14\n",
            "7 x 3 = 21\n",
            "7 x 4 = 28\n",
            "7 x 5 = 35\n",
            "7 x 6 = 42\n",
            "7 x 7 = 49\n",
            "7 x 8 = 56\n",
            "7 x 9 = 63\n",
            "7 x 10 = 70\n",
            "-------------------\n",
            "Tabuada de 8:\n",
            "8 x 1 = 8\n",
            "8 x 2 = 16\n",
            "8 x 3 = 24\n",
            "8 x 4 = 32\n",
            "8 x 5 = 40\n",
            "8 x 6 = 48\n",
            "8 x 7 = 56\n",
            "8 x 8 = 64\n",
            "8 x 9 = 72\n",
            "8 x 10 = 80\n",
            "-------------------\n",
            "Tabuada de 9:\n",
            "9 x 1 = 9\n",
            "9 x 2 = 18\n",
            "9 x 3 = 27\n",
            "9 x 4 = 36\n",
            "9 x 5 = 45\n",
            "9 x 6 = 54\n",
            "9 x 7 = 63\n",
            "9 x 8 = 72\n",
            "9 x 9 = 81\n",
            "9 x 10 = 90\n",
            "-------------------\n",
            "Tabuada de 10:\n",
            "10 x 1 = 10\n",
            "10 x 2 = 20\n",
            "10 x 3 = 30\n",
            "10 x 4 = 40\n",
            "10 x 5 = 50\n",
            "10 x 6 = 60\n",
            "10 x 7 = 70\n",
            "10 x 8 = 80\n",
            "10 x 9 = 90\n",
            "10 x 10 = 100\n",
            "-------------------\n"
          ]
        }
      ]
    }
  ]
}
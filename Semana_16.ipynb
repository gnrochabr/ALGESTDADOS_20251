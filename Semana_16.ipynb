{
  "nbformat": 4,
  "nbformat_minor": 0,
  "metadata": {
    "colab": {
      "provenance": [],
      "authorship_tag": "ABX9TyOU3ZFIdDKKo6bBsPfEf7IB",
      "include_colab_link": true
    },
    "kernelspec": {
      "name": "python3",
      "display_name": "Python 3"
    },
    "language_info": {
      "name": "python"
    }
  },
  "cells": [
    {
      "cell_type": "markdown",
      "metadata": {
        "id": "view-in-github",
        "colab_type": "text"
      },
      "source": [
        "<a href=\"https://colab.research.google.com/github/gnrochabr/ALGESTDADOS_20251/blob/main/Semana_16.ipynb\" target=\"_parent\"><img src=\"https://colab.research.google.com/assets/colab-badge.svg\" alt=\"Open In Colab\"/></a>"
      ]
    },
    {
      "cell_type": "code",
      "source": [
        "pip install pandas"
      ],
      "metadata": {
        "colab": {
          "base_uri": "https://localhost:8080/"
        },
        "id": "Qm0xwrR_ny4k",
        "outputId": "2f00db05-5a1c-43cd-da55-b19977211754"
      },
      "execution_count": 35,
      "outputs": [
        {
          "output_type": "stream",
          "name": "stdout",
          "text": [
            "Requirement already satisfied: pandas in /usr/local/lib/python3.11/dist-packages (2.2.2)\n",
            "Requirement already satisfied: numpy>=1.23.2 in /usr/local/lib/python3.11/dist-packages (from pandas) (2.0.2)\n",
            "Requirement already satisfied: python-dateutil>=2.8.2 in /usr/local/lib/python3.11/dist-packages (from pandas) (2.9.0.post0)\n",
            "Requirement already satisfied: pytz>=2020.1 in /usr/local/lib/python3.11/dist-packages (from pandas) (2025.2)\n",
            "Requirement already satisfied: tzdata>=2022.7 in /usr/local/lib/python3.11/dist-packages (from pandas) (2025.2)\n",
            "Requirement already satisfied: six>=1.5 in /usr/local/lib/python3.11/dist-packages (from python-dateutil>=2.8.2->pandas) (1.17.0)\n"
          ]
        }
      ]
    },
    {
      "cell_type": "code",
      "source": [
        "# Crie um arquivo chamado meuarquivo.txt e escreva 3 frases.\n",
        "with open('meuarquivo.txt','w') as arquivo:\n",
        "  arquivo.write('Josué é Vascaíno\\n')\n",
        "  arquivo.write('Rianni é Flamenguista\\n')\n",
        "  arquivo.write('Adriana é de Jesus\\n')\n",
        "\n",
        "# Acrescente duas frases novas ao final do arquivo.\n",
        "with open('meuarquivo.txt','a') as arquivo:\n",
        "  arquivo.write('Suelany mora em Pinheiros\\n')\n",
        "  arquivo.write('Patricia está no notebook\\n')\n",
        "\n",
        "# Leia e mostre o conteúdo linha por linha.\n",
        "with open('meuarquivo.txt','r') as arquivo:\n",
        "  for i in arquivo:\n",
        "    print(i.strip())\n",
        "\n",
        "# Conte e imprima quantas linhas o arquivo possui.\n",
        "contador = 0\n",
        "with open('meuarquivo.txt','r') as arquivo:\n",
        "  for i in arquivo:\n",
        "    contador+=1\n",
        "print(f'O arquivo tem {contador} linhas')"
      ],
      "metadata": {
        "colab": {
          "base_uri": "https://localhost:8080/"
        },
        "id": "6Eju5igYeyDP",
        "outputId": "1de990d8-2acf-44f5-94c6-8b17daf5f41f"
      },
      "execution_count": 12,
      "outputs": [
        {
          "output_type": "stream",
          "name": "stdout",
          "text": [
            "Josué é Vascaíno\n",
            "Rianni é Flamenguista\n",
            "Adriana é de Jesus\n",
            "Suelany mora em Pinheiros\n",
            "Patricia está no notebook\n",
            "O arquivo tem 5 linhas\n"
          ]
        }
      ]
    },
    {
      "cell_type": "code",
      "source": [
        "import pandas #importa a biblioteca pandas para usar formatos além do txt\n",
        "#Cria o pacote de dados\n",
        "dados = { \"Produto\": [\"Lajota\", \"Cimento\", \"Rejunte\"], \"Preço\": [1.50,33,10], \"Quantidade\": [2350, 1450, 4520] }\n",
        "#Cria a estrutura de dados em planilha de dados\n",
        "tabela = pandas.DataFrame(dados)\n",
        "#converte em formato compatível com excel\n",
        "tabela.to_excel(\"estoque.xlsx\", index=False)"
      ],
      "metadata": {
        "id": "fRXSTclHpwEA"
      },
      "execution_count": 38,
      "outputs": []
    },
    {
      "cell_type": "code",
      "source": [
        "import pandas\n",
        "#Leia o arquivo e mostre os dados.\n",
        "tabela = pandas.read_excel(\"estoque.xlsx\")\n",
        "print(tabela)\n"
      ],
      "metadata": {
        "colab": {
          "base_uri": "https://localhost:8080/"
        },
        "id": "bXXgBBYfpTUg",
        "outputId": "31c7660c-8340-4ce8-ed8e-e7cb8f080c17"
      },
      "execution_count": 39,
      "outputs": [
        {
          "output_type": "stream",
          "name": "stdout",
          "text": [
            "   Produto  Preço  Quantidade\n",
            "0   Lajota    1.5        2350\n",
            "1  Cimento   33.0        1450\n",
            "2  Rejunte   10.0        4520\n"
          ]
        }
      ]
    },
    {
      "cell_type": "code",
      "source": [
        "#Crie a coluna Total = Preço * Quantidade.\n",
        "import pandas\n",
        "from google.colab import files # Necessário para o upload via código, opcional aqui\n",
        "tabela = pandas.read_excel(\"estoque.xlsx\")\n",
        "tabela['Total'] = tabela['Preço']*tabela['Quantidade']\n",
        "\n",
        "#Leia o arquivo e mostre os dados.\n",
        "tabela = pandas.read_excel(\"estoque.xlsx\")\n",
        "print(tabela)\n",
        "\n"
      ],
      "metadata": {
        "colab": {
          "base_uri": "https://localhost:8080/"
        },
        "id": "bsLO0Uf-qgZJ",
        "outputId": "af067113-dac6-46bb-ec4f-0a78ddfba84b"
      },
      "execution_count": 52,
      "outputs": [
        {
          "output_type": "stream",
          "name": "stdout",
          "text": [
            "   Produto  Preço  Quantidade\n",
            "0   Lajota    1.5        2350\n",
            "1  Cimento   33.0        1450\n",
            "2  Rejunte   10.0        4520\n"
          ]
        }
      ]
    },
    {
      "cell_type": "code",
      "source": [
        "import pandas\n",
        "#Calcule e mostre:\n",
        "tabela = pandas.read_excel(\"estoque.xlsx\")\n",
        "#O total geral de vendas\n",
        "tabela['Total'] = tabela['Preço']*tabela['Quantidade']\n",
        "total_vendas = tabela[\"Total\"].sum()\n",
        "print(f'Total de vendas: R${total_vendas}')\n",
        "#O produto mais caro (em total)\n",
        "maior_valor = tabela['Preço'].max()\n",
        "caro = tabela[tabela['Preço'] == maior_valor]\n",
        "print(caro.Produto)\n",
        "#Produtos com total acima de R$10\n",
        "acima = tabela[tabela['Preço'] >= 10]\n",
        "print(acima.Produto)\n",
        "#Salve a tabela atualizada como produtos_atualizados.xlsx.\n",
        "nova_tabela = pandas.DataFrame(tabela)\n",
        "tabela.to_excel(\"produtos_atualizados.xlsx\", index=False)\n"
      ],
      "metadata": {
        "colab": {
          "base_uri": "https://localhost:8080/"
        },
        "id": "w7d3dC3fqjY5",
        "outputId": "d6bb1d8c-193d-4626-8a58-cf9150fd8929"
      },
      "execution_count": 69,
      "outputs": [
        {
          "output_type": "stream",
          "name": "stdout",
          "text": [
            "Total de vendas: R$96575.0\n",
            "1    Cimento\n",
            "Name: Produto, dtype: object\n",
            "1    Cimento\n",
            "2    Rejunte\n",
            "Name: Produto, dtype: object\n"
          ]
        }
      ]
    },
    {
      "cell_type": "code",
      "source": [],
      "metadata": {
        "id": "-iQBX0Npw_tm"
      },
      "execution_count": null,
      "outputs": []
    },
    {
      "cell_type": "code",
      "source": [],
      "metadata": {
        "id": "NCTygl5wqkqh"
      },
      "execution_count": null,
      "outputs": []
    }
  ]
}
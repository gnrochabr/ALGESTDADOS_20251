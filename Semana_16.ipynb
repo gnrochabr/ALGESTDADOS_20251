{
  "nbformat": 4,
  "nbformat_minor": 0,
  "metadata": {
    "colab": {
      "provenance": [],
      "authorship_tag": "ABX9TyNP2DfCAZbVyXgudNxuEJbY",
      "include_colab_link": true
    },
    "kernelspec": {
      "name": "python3",
      "display_name": "Python 3"
    },
    "language_info": {
      "name": "python"
    }
  },
  "cells": [
    {
      "cell_type": "markdown",
      "metadata": {
        "id": "view-in-github",
        "colab_type": "text"
      },
      "source": [
        "<a href=\"https://colab.research.google.com/github/gnrochabr/ALGESTDADOS_20251/blob/main/Semana_16.ipynb\" target=\"_parent\"><img src=\"https://colab.research.google.com/assets/colab-badge.svg\" alt=\"Open In Colab\"/></a>"
      ]
    },
    {
      "cell_type": "code",
      "execution_count": 1,
      "metadata": {
        "colab": {
          "base_uri": "https://localhost:8080/"
        },
        "id": "zjLafHNa4TKV",
        "outputId": "d8a119f1-a6ff-4e7c-f378-8581436bd4e5"
      },
      "outputs": [
        {
          "output_type": "stream",
          "name": "stdout",
          "text": [
            "Conteúdo do arquivo:\n",
            "Esta é a primeira frase.\n",
            "Esta é a segunda frase.\n",
            "Esta é a terceira frase.\n",
            "Esta é a quarta frase.\n",
            "Esta é a quinta frase.\n",
            "\n",
            "Número total de linhas: 5\n",
            "\n",
            "Dados lidos do Excel:\n",
            "    Produto  Preço  Quantidade\n",
            "0    Caneta    2.5          40\n",
            "1   Caderno   15.0          10\n",
            "2  Borracha    1.5          25\n",
            "3   Mochila  120.0           2\n",
            "4     Lápis    1.0         100\n",
            "\n",
            "Total geral de vendas: R$ 627.50\n",
            "Produto mais caro (Total): Mochila (R$ 240.00)\n",
            "\n",
            "Produtos com total acima de R$100:\n",
            "   Produto  Total\n",
            "1  Caderno  150.0\n",
            "3  Mochila  240.0\n"
          ]
        }
      ],
      "source": [
        "import pandas as pd\n",
        "\n",
        "# 1. Criar e escrever 3 frases no arquivo de texto\n",
        "with open(\"meuarquivo.txt\", \"w\", encoding=\"utf-8\") as f:\n",
        "    f.write(\"Esta é a primeira frase.\\n\")\n",
        "    f.write(\"Esta é a segunda frase.\\n\")\n",
        "    f.write(\"Esta é a terceira frase.\\n\")\n",
        "\n",
        "# 2. Acrescentar duas frases\n",
        "with open(\"meuarquivo.txt\", \"a\", encoding=\"utf-8\") as f:\n",
        "    f.write(\"Esta é a quarta frase.\\n\")\n",
        "    f.write(\"Esta é a quinta frase.\\n\")\n",
        "\n",
        "# 3. Ler e mostrar linha por linha\n",
        "print(\"Conteúdo do arquivo:\")\n",
        "with open(\"meuarquivo.txt\", \"r\", encoding=\"utf-8\") as f:\n",
        "    linhas = f.readlines()\n",
        "    for linha in linhas:\n",
        "        print(linha.strip())\n",
        "\n",
        "# 4. Contar linhas\n",
        "print(f\"\\nNúmero total de linhas: {len(linhas)}\")\n",
        "\n",
        "# 5. Criar dicionário e DataFrame\n",
        "dados = {\n",
        "    \"Produto\": [\"Caneta\", \"Caderno\", \"Borracha\", \"Mochila\", \"Lápis\"],\n",
        "    \"Preço\": [2.5, 15.0, 1.5, 120.0, 1.0],\n",
        "    \"Quantidade\": [40, 10, 25, 2, 100]\n",
        "}\n",
        "\n",
        "df = pd.DataFrame(dados)\n",
        "\n",
        "# 6. Salvar em produtos.xlsx\n",
        "df.to_excel(\"produtos.xlsx\", index=False)\n",
        "\n",
        "# 7. Ler produtos.xlsx e mostrar dados\n",
        "df_lido = pd.read_excel(\"produtos.xlsx\")\n",
        "print(\"\\nDados lidos do Excel:\")\n",
        "print(df_lido)\n",
        "\n",
        "# 8. Criar coluna Total\n",
        "df_lido[\"Total\"] = df_lido[\"Preço\"] * df_lido[\"Quantidade\"]\n",
        "\n",
        "# 9. Total geral de vendas\n",
        "total_geral = df_lido[\"Total\"].sum()\n",
        "print(f\"\\nTotal geral de vendas: R$ {total_geral:.2f}\")\n",
        "\n",
        "# 10. Produto mais caro em total\n",
        "mais_caro = df_lido.loc[df_lido[\"Total\"].idxmax()]\n",
        "print(f\"Produto mais caro (Total): {mais_caro['Produto']} (R$ {mais_caro['Total']:.2f})\")\n",
        "\n",
        "# 11. Produtos com total > R$100\n",
        "print(\"\\nProdutos com total acima de R$100:\")\n",
        "acima_100 = df_lido[df_lido[\"Total\"] > 100]\n",
        "print(acima_100[[\"Produto\", \"Total\"]])\n",
        "\n",
        "# 12. Salvar planilha atualizada\n",
        "df_lido.to_excel(\"produtos_atualizados.xlsx\", index=False)"
      ]
    }
  ]
}
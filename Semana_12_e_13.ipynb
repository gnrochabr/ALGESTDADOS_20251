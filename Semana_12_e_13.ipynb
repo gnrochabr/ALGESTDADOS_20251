{
  "nbformat": 4,
  "nbformat_minor": 0,
  "metadata": {
    "colab": {
      "provenance": [],
      "authorship_tag": "ABX9TyNlcEV/WFsT8lrxIE5olkNY",
      "include_colab_link": true
    },
    "kernelspec": {
      "name": "python3",
      "display_name": "Python 3"
    },
    "language_info": {
      "name": "python"
    }
  },
  "cells": [
    {
      "cell_type": "markdown",
      "metadata": {
        "id": "view-in-github",
        "colab_type": "text"
      },
      "source": [
        "<a href=\"https://colab.research.google.com/github/gnrochabr/ALGESTDADOS_20251/blob/main/Semana_12_e_13.ipynb\" target=\"_parent\"><img src=\"https://colab.research.google.com/assets/colab-badge.svg\" alt=\"Open In Colab\"/></a>"
      ]
    },
    {
      "cell_type": "code",
      "execution_count": null,
      "metadata": {
        "id": "LfYz6irce2ug"
      },
      "outputs": [],
      "source": [
        "#1 - Crie um vetor com 10 números inteiros fornecidos pelo usuário e exiba a soma de todos os elementos.\n",
        "#criando a lista vazia\n",
        "numeros = []\n",
        "\n",
        "#leitura dos 10 números\n",
        "for x in range(10): #para x = 0 repita até x = 9\n",
        "  num = int(input(f'Digite o {x+1}º número:'))\n",
        "  numeros.append(num)\n",
        "#fim. x = x + 1\n",
        "\n",
        "#somando os 10 números da lista\n",
        "soma = 0\n",
        "for num in numeros:\n",
        "  soma+=num\n",
        "print(soma)"
      ]
    },
    {
      "cell_type": "code",
      "source": [
        "#2 - Leia um vetor com 5 nomes de pessoas e exiba os nomes em ordem alfabética.\n",
        "pessoas = ['João','José','Maria','Francisco','Luiz'] #cria o vetor de 5 nomes de pessoas\n",
        "pessoas.sort() #ordena o vetor pessoas\n",
        "print(pessoas) #imprime o vetor ordenado"
      ],
      "metadata": {
        "id": "0keu15oMvmVr"
      },
      "execution_count": null,
      "outputs": []
    },
    {
      "cell_type": "code",
      "source": [
        "#3 - Dado um vetor com 8 números inteiros, encontre e exiba o maior e o menor valor.\n",
        "numeros = [9,5,4,7,2,1,3,8]\n",
        "maior = max(numeros) #max é uma função que busca o maior valor em um vetor/matriz\n",
        "menor = min(numeros) #min é uma função que busca o menor valor em um vetor/matriz\n",
        "print(f'Maior valor:{maior} | Menor Valor:{menor}')"
      ],
      "metadata": {
        "id": "lQN5IQwJvq1a"
      },
      "execution_count": null,
      "outputs": []
    },
    {
      "cell_type": "code",
      "source": [
        "#4 - Peça ao usuário 10 números e armazene em um vetor. Em seguida, exiba apenas os números pares.\n",
        "\n",
        "numeros = [] #vetor vazio de números\n",
        "\n",
        "#Inserção dos valores\n",
        "for i in range(10):\n",
        "  num = int(input(f'Digite o valor {i+1}:'))\n",
        "  numeros.append(num)\n",
        "\n",
        "#Imprime os pares\n",
        "for num in numeros:\n",
        "  if num%2 == 0:\n",
        "    print(num,end=' ')\n"
      ],
      "metadata": {
        "id": "Pd8tu8qtv9T6"
      },
      "execution_count": null,
      "outputs": []
    },
    {
      "cell_type": "code",
      "source": [
        "#5 - Leia um vetor com 6 números reais e exiba a média aritmética dos valores.\n",
        "reais = [5.5,6.5,9,8.7,8,9.5] #Vetor de números reais\n",
        "media = sum(reais)/len(reais) #Soma dos elementos / tamanho do vetor(quantidade)\n",
        "print(f'Média da lista: {media:.1f}') #Impressão"
      ],
      "metadata": {
        "id": "HIpMOp7Ov_ri"
      },
      "execution_count": null,
      "outputs": []
    },
    {
      "cell_type": "code",
      "source": [
        "#6 - Crie um vetor de 10 elementos e conte quantos são maiores que 50.\n",
        "elementos = [15,574,11,89,67,48,51,24]\n",
        "cont = 0 #Inicializa o contador.\n",
        "for e in elementos: #Percorre todo o vetor.\n",
        "  if e > 50: #Se o elemento for maior que 50, alimenta o contador.\n",
        "    cont+=1 #Contador soma mais um.\n",
        "print(cont) #Ao fim de tudo, imprime quantos são maiores que 50."
      ],
      "metadata": {
        "id": "lNffDhAfv_pD"
      },
      "execution_count": null,
      "outputs": []
    },
    {
      "cell_type": "code",
      "source": [
        "#7 - Crie um vetor com 7 elementos e exiba os valores ao contrário (do último para o primeiro).\n",
        "elementos = [1,2,5,7,4,3,8] #cria o vetor de 7 elementos\n",
        "invertido = elementos[::-1]\n",
        "print(invertido) #imprime o vetor ordenado"
      ],
      "metadata": {
        "id": "urYOcY5-v_mq"
      },
      "execution_count": null,
      "outputs": []
    },
    {
      "cell_type": "code",
      "source": [
        "#8 - Leia um vetor com 5 elementos e verifique se há elementos repetidos. Exiba os valores duplicados.\n",
        "numbers = [1,2,2,3,3] #Elementos\n",
        "repetidos = [] #lista vazia de repetidos\n",
        "for n in numbers: #para cada item dos elementos\n",
        "  if numbers.count(n) > 1: #se a contagem for maior que 1\n",
        "    repetidos.append(n) #adiciona ao vetor de repetidos\n",
        "print(list(set(repetidos))) #Set converte em conjunto e elimina os repetidos\n"
      ],
      "metadata": {
        "id": "lR8F8vKVv_kC"
      },
      "execution_count": null,
      "outputs": []
    },
    {
      "cell_type": "code",
      "source": [
        "#9 - Crie um vetor com 10 números inteiros aleatórios entre 1 e 100. Em seguida, exiba os números ordenados.\n",
        "import random #importa a biblioteca de aleatorios\n",
        "inteiros = [] #cria o vetor vazio\n",
        "for i in range(10): #faz a rotação do comando de inserção 10x\n",
        "  while True: #repete até ter um ponto de parada\n",
        "    num = random.randint(1,60) #seleciona um valor aleatório entre 1 e 100\n",
        "    if num not in inteiros: #Se ele não está no vetor\n",
        "      inteiros.append(num) #adiciona ele no vetor\n",
        "      break #pausa o loop e vai escolher o próximo valor\n",
        "inteiros.sort() #ordena o vetor\n",
        "print(inteiros) #imprime o vetor"
      ],
      "metadata": {
        "id": "8WELBnnov_h1"
      },
      "execution_count": null,
      "outputs": []
    },
    {
      "cell_type": "code",
      "source": [
        "#10 - Leia um vetor com 6 elementos inteiros e solicite ao usuário um valor. Verifique se esse valor existe no vetor.\n",
        "elementos = [1,5,7,4,3,8] #cria o vetor de 6 elementos\n",
        "user_num = int(input('Digite um valor:')) #numero do usuário\n",
        "if user_num in elementos: #Se o elemento está no vetor\n",
        "  print(f'O valor {user_num} está no vetor ')\n",
        "else:# Se o elemento não está no vetor\n",
        "  print(f'O valor {user_num} não está no vetor ')"
      ],
      "metadata": {
        "id": "_1jgBrOyv_fN"
      },
      "execution_count": null,
      "outputs": []
    },
    {
      "cell_type": "code",
      "source": [
        "#11 - Crie uma matriz 3x3 e preencha com valores fornecidos pelo usuário. Em seguida, exiba a matriz formatada.\n",
        "matriz = [] #cria a matriz vazia\n",
        "\n",
        "for i in range(3): #Roda a quantidade de linhas da matriz\n",
        "  lista = [] #Cria uma linha na matriz vazia\n",
        "  for j in range(3): #Roda os elementos inserindo valor para cada linha/coluna\n",
        "    num = int(input(f'Valor [{i}][{j}]:')) #Valor inserido pelo usuário\n",
        "    lista.append(num) #adiciona o valor na linha\n",
        "  matriz.append(lista) #adiciona linha na matriz\n",
        "\n",
        "\n",
        "for i in range(3): #roda a linha\n",
        "  for j in range(3): #roda a coluna\n",
        "    print(matriz[i][j],end=' ') #imprime a linha\n",
        "  print() #muda de linha\n",
        "\n",
        "\n"
      ],
      "metadata": {
        "id": "KUek9bgZv_cz"
      },
      "execution_count": null,
      "outputs": []
    },
    {
      "cell_type": "code",
      "source": [
        "#12 - Gere uma matriz 4x4 com números aleatórios entre 1 e 20 e exiba a soma de todos os elementos.\n",
        "import random\n",
        "matriz = []\n",
        "for i in range(4):\n",
        "  linha = []\n",
        "  for j in range(4):\n",
        "    linha.append(random.randint(1,20))\n",
        "  matriz.append(linha)\n",
        "\n",
        "soma = 0\n",
        "for i in range(4):\n",
        "  for j in range(4):\n",
        "    print(matriz[i][j],end=' ')\n",
        "    soma += matriz[i][j]\n",
        "  print()\n",
        "print(f'Soma da matriz: {soma}')\n"
      ],
      "metadata": {
        "id": "Oiqgn4mBv_aK",
        "colab": {
          "base_uri": "https://localhost:8080/"
        },
        "outputId": "e437feea-9bab-4861-baf9-50b2d5f4b786"
      },
      "execution_count": null,
      "outputs": [
        {
          "output_type": "stream",
          "name": "stdout",
          "text": [
            "15 7 9 2 \n",
            "16 4 7 15 \n",
            "10 3 14 12 \n",
            "12 6 14 15 \n",
            "Soma da matriz: 161\n"
          ]
        }
      ]
    },
    {
      "cell_type": "code",
      "source": [
        "#13 - Dada uma matriz 3x3 com números inteiros, exiba a soma dos elementos da diagonal principal.\n",
        "import random\n",
        "matriz = []\n",
        "for i in range(3):\n",
        "  linha = []\n",
        "  for j in range(3):\n",
        "    linha.append(int(input('Valor:')))\n",
        "  matriz.append(linha)\n",
        "print()\n",
        "\n",
        "soma = 0\n",
        "for i in range(3):\n",
        "  for j in range(3):\n",
        "    if i==j:\n",
        "      print(f'\\033[1m{matriz[i][j]}\\033[0m',end=' ')\n",
        "      soma += matriz[i][j]\n",
        "    else:\n",
        "      print(matriz[i][j],end=' ')\n",
        "  print()\n",
        "print(f'\\nSoma da diagonal da matriz: {soma}')"
      ],
      "metadata": {
        "id": "N5oBWxnGv_Xa",
        "colab": {
          "base_uri": "https://localhost:8080/"
        },
        "outputId": "7ec640d3-92eb-475e-8824-0504745c3bfc"
      },
      "execution_count": null,
      "outputs": [
        {
          "output_type": "stream",
          "name": "stdout",
          "text": [
            "Valor:15\n",
            "Valor:16\n",
            "Valor:17\n",
            "Valor:19\n",
            "Valor:20\n",
            "Valor:21\n",
            "Valor:31\n",
            "Valor:23\n",
            "Valor:32\n",
            "\n",
            "\u001b[1m15\u001b[0m 16 17 \n",
            "19 \u001b[1m20\u001b[0m 21 \n",
            "31 23 \u001b[1m32\u001b[0m \n",
            "\n",
            "Soma da diagonal da matriz: 67\n"
          ]
        }
      ]
    },
    {
      "cell_type": "code",
      "source": [
        "#14 - Leia uma matriz 2x3 e uma matriz 3x2. Em seguida, calcule e exiba a matriz produto (multiplicação de matrizes).\n",
        "import random\n",
        "def imprime_matriz(matriz,x,y):\n",
        "  for i in range(x): #roda a linha\n",
        "    for j in range(y): #roda a coluna\n",
        "      print(matriz[i][j],end=' ') #imprime a linha\n",
        "    print() #muda de linha\n",
        "  print()\n",
        "\n",
        "def cria_matriz(x,y):\n",
        "  matriz = []\n",
        "  for i in range(x):\n",
        "    linha = []\n",
        "    for j in range(y):\n",
        "      linha.append(random.randint(0,100))\n",
        "    matriz.append(linha)\n",
        "  return matriz\n",
        "\n",
        "m1 = cria_matriz(2,3)\n",
        "m2 = cria_matriz(3,2)\n",
        "imprime_matriz(m1,2,3)\n",
        "imprime_matriz(m2,3,2)\n",
        "\n"
      ],
      "metadata": {
        "id": "zR45QJz8v_U6",
        "colab": {
          "base_uri": "https://localhost:8080/"
        },
        "outputId": "1e428d16-afd8-49d8-c477-3fa0b99e39fd"
      },
      "execution_count": null,
      "outputs": [
        {
          "output_type": "stream",
          "name": "stdout",
          "text": [
            "31 84 85 \n",
            "30 2 59 \n",
            "\n",
            "12 62 \n",
            "21 50 \n",
            "54 92 \n",
            "\n"
          ]
        }
      ]
    },
    {
      "cell_type": "code",
      "source": [
        "#15 - Crie uma matriz 3x3 com valores inteiros. Conte quantos números pares ela possui.\n",
        "import random\n",
        "def imprime_matriz(matriz,x,y):\n",
        "  for i in range(x): #roda a linha\n",
        "    for j in range(y): #roda a coluna\n",
        "      print(matriz[i][j],end=' ') #imprime a linha\n",
        "    print() #muda de linha\n",
        "  print()\n",
        "\n",
        "matriz = []\n",
        "for i in range(3):\n",
        "  linha = []\n",
        "  for j in range(3):\n",
        "    linha.append(random.randint(0,100))\n",
        "  matriz.append(linha)\n",
        "\n",
        "imprime_matriz(matriz,3,3)\n",
        "\n",
        "cont = 0\n",
        "for i in range(3):\n",
        "  for j in range(3):\n",
        "    if matriz[i][j]%2 == 0:\n",
        "      cont+=1\n",
        "print(f'Quantidade de pares: {cont}')"
      ],
      "metadata": {
        "id": "XfRdObjRv_SS",
        "colab": {
          "base_uri": "https://localhost:8080/"
        },
        "outputId": "e12add80-6a83-4a0e-e444-bd5602e6bfbd"
      },
      "execution_count": 17,
      "outputs": [
        {
          "output_type": "stream",
          "name": "stdout",
          "text": [
            "53 88 66 \n",
            "54 9 83 \n",
            "63 17 10 \n",
            "\n",
            "Quantidade de pares: 4\n"
          ]
        }
      ]
    },
    {
      "cell_type": "code",
      "source": [
        "#16 - Gere uma matriz 5x5 onde cada elemento seja igual à soma de sua linha e coluna (i + j).\n",
        "def imprime_matriz(matriz,x,y):\n",
        "  for i in range(x): #roda a linha\n",
        "    for j in range(y): #roda a coluna\n",
        "      print(matriz[i][j],end=' ') #imprime a linha\n",
        "    print() #muda de linha\n",
        "  print()\n",
        "matriz = []\n",
        "for i in range(5):\n",
        "  linha = []\n",
        "  for j in range(5):\n",
        "    linha.append(i+j)\n",
        "  matriz.append(linha)\n",
        "\n",
        "imprime_matriz(matriz,5,5)\n"
      ],
      "metadata": {
        "id": "iFWRkjcEv_Pq",
        "colab": {
          "base_uri": "https://localhost:8080/"
        },
        "outputId": "29eeca4e-70b7-4998-ab99-3291d7626120"
      },
      "execution_count": 19,
      "outputs": [
        {
          "output_type": "stream",
          "name": "stdout",
          "text": [
            "0 1 2 3 4 \n",
            "1 2 3 4 5 \n",
            "2 3 4 5 6 \n",
            "3 4 5 6 7 \n",
            "4 5 6 7 8 \n",
            "\n"
          ]
        }
      ]
    },
    {
      "cell_type": "code",
      "source": [
        "#17 - Dada uma matriz 4x4, encontre e exiba o maior elemento da matriz e sua posição (linha, coluna).\n",
        "def imprime_matriz(matriz,x,y):\n",
        "  for i in range(x): #roda a linha\n",
        "    for j in range(y): #roda a coluna\n",
        "      print(matriz[i][j],end=' ') #imprime a linha\n",
        "    print() #muda de linha\n",
        "  print()\n",
        "matriz = []\n",
        "for i in range(4):\n",
        "  linha = []\n",
        "  for j in range(4):\n",
        "    linha.append(random.randint(0,100))\n",
        "  matriz.append(linha)\n",
        "\n",
        "imprime_matriz(matriz,4,4)\n",
        "\n",
        "maior = matriz[0][0]\n",
        "for i in range(4):\n",
        "  for j in range(4):\n",
        "    if matriz[i][j] > maior:\n",
        "      maior = matriz[i][j]\n",
        "      linha = i\n",
        "      coluna = j\n",
        "print(f'Maior valor: {maior} | Posição: [{linha}][{coluna}]')"
      ],
      "metadata": {
        "id": "QURDFfq7v_NC",
        "colab": {
          "base_uri": "https://localhost:8080/"
        },
        "outputId": "a160f5b4-7825-4238-ddd6-c603fba858b2"
      },
      "execution_count": 22,
      "outputs": [
        {
          "output_type": "stream",
          "name": "stdout",
          "text": [
            "14 50 71 91 \n",
            "76 46 12 99 \n",
            "76 39 94 100 \n",
            "72 83 5 85 \n",
            "\n",
            "Maior valor: 100 | Posição: [2][3]\n"
          ]
        }
      ]
    },
    {
      "cell_type": "code",
      "source": [
        "#18 - Crie uma matriz identidade de ordem 4 (1s na diagonal principal e 0s no restante).\n",
        "def imprime_matriz(matriz,x,y):\n",
        "  for i in range(x): #roda a linha\n",
        "    for j in range(y): #roda a coluna\n",
        "      print(matriz[i][j],end=' ') #imprime a linha\n",
        "    print() #muda de linha\n",
        "  print()\n",
        "\n",
        "matriz = []\n",
        "for i in range(4):\n",
        "  linha = []\n",
        "  for j in range(4):\n",
        "    if i==j:\n",
        "      linha.append(1)\n",
        "    else:\n",
        "      linha.append(0)\n",
        "  matriz.append(linha)\n",
        "\n",
        "imprime_matriz(matriz,4,4)\n",
        "\n"
      ],
      "metadata": {
        "id": "HLBGWMOkv_Ki",
        "colab": {
          "base_uri": "https://localhost:8080/"
        },
        "outputId": "4ac9c968-b14e-4db9-f248-268671b03259"
      },
      "execution_count": 25,
      "outputs": [
        {
          "output_type": "stream",
          "name": "stdout",
          "text": [
            "1 0 0 0 \n",
            "0 1 0 0 \n",
            "0 0 1 0 \n",
            "0 0 0 1 \n",
            "\n"
          ]
        }
      ]
    },
    {
      "cell_type": "code",
      "source": [
        "#19 - Leia uma matriz 3x3 e exiba sua transposta (troca de linhas por colunas).\n",
        "import random\n",
        "def imprime_matriz(matriz,x,y):\n",
        "  for i in range(x): #roda a linha\n",
        "    for j in range(y): #roda a coluna\n",
        "      print(matriz[i][j],end=' ') #imprime a linha\n",
        "    print() #muda de linha\n",
        "  print()\n",
        "\n",
        "matriz = []\n",
        "for i in range(3):\n",
        "  linha = []\n",
        "  for j in range(3):\n",
        "    linha.append(random.randint(0,100))\n",
        "  matriz.append(linha)\n",
        "\n",
        "imprime_matriz(matriz,3,3)\n",
        "\n",
        "print('Transposta:')\n",
        "for i in range(3):\n",
        "  for j in range(3):\n",
        "    print(matriz[j][i],end=' ')\n",
        "  print()"
      ],
      "metadata": {
        "id": "QnSFdYD0v_Hq",
        "colab": {
          "base_uri": "https://localhost:8080/"
        },
        "outputId": "bdbc08b9-1048-486b-bc26-cfc559875968"
      },
      "execution_count": 28,
      "outputs": [
        {
          "output_type": "stream",
          "name": "stdout",
          "text": [
            "77 36 40 \n",
            "32 48 38 \n",
            "79 84 64 \n",
            "\n",
            "Transposta:\n",
            "77 32 79 \n",
            "36 48 84 \n",
            "40 38 64 \n"
          ]
        }
      ]
    },
    {
      "cell_type": "code",
      "source": [
        "#20 - Crie uma matriz 3x3 com valores fornecidos pelo usuário e verifique se ela é simétrica (igual à sua transposta).\n",
        "import random\n",
        "def imprime_matriz(matriz,x,y):\n",
        "  for i in range(x): #roda a linha\n",
        "    for j in range(y): #roda a coluna\n",
        "      print(matriz[i][j],end=' ') #imprime a linha\n",
        "    print() #muda de linha\n",
        "  print()\n",
        "\n",
        "matriz = []\n",
        "for i in range(3):\n",
        "  linha = []\n",
        "  for j in range(3):\n",
        "    linha.append(random.randint(0,100))\n",
        "  matriz.append(linha)\n",
        "\n",
        "imprime_matriz(matriz,3,3)\n",
        "\n",
        "print('Transposta:')\n",
        "for i in range(3):\n",
        "  for j in range(3):\n",
        "    print(matriz[j][i],end=' ')\n",
        "  print()\n",
        "\n",
        "for i in range(3):\n",
        "  for j in range(3):\n",
        "    if matriz[i][j] != matriz[j][i]:\n",
        "      print('\\nNão é simétrica')\n",
        "      break\n",
        "    else:\n",
        "      print('\\nÉ simétrica')\n",
        "  break"
      ],
      "metadata": {
        "id": "YYzRZShwv-rq",
        "colab": {
          "base_uri": "https://localhost:8080/"
        },
        "outputId": "39e931a2-d191-465f-f4c2-9200ac33b47f"
      },
      "execution_count": 54,
      "outputs": [
        {
          "output_type": "stream",
          "name": "stdout",
          "text": [
            "29 59 40 \n",
            "8 14 98 \n",
            "47 52 52 \n",
            "\n",
            "Transposta:\n",
            "29 8 47 \n",
            "59 14 52 \n",
            "40 98 52 \n",
            "\n",
            "É simétrica\n",
            "\n",
            "Não é simétrica\n"
          ]
        }
      ]
    }
  ]
}
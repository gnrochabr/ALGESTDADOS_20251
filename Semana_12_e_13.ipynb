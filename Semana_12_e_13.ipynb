{
  "nbformat": 4,
  "nbformat_minor": 0,
  "metadata": {
    "colab": {
      "provenance": [],
      "authorship_tag": "ABX9TyPXickHi/Fbnc0ksZJQp6it",
      "include_colab_link": true
    },
    "kernelspec": {
      "name": "python3",
      "display_name": "Python 3"
    },
    "language_info": {
      "name": "python"
    }
  },
  "cells": [
    {
      "cell_type": "markdown",
      "metadata": {
        "id": "view-in-github",
        "colab_type": "text"
      },
      "source": [
        "<a href=\"https://colab.research.google.com/github/gnrochabr/ALGESTDADOS_20251/blob/main/Semana_12_e_13.ipynb\" target=\"_parent\"><img src=\"https://colab.research.google.com/assets/colab-badge.svg\" alt=\"Open In Colab\"/></a>"
      ]
    },
    {
      "cell_type": "code",
      "execution_count": null,
      "metadata": {
        "id": "LfYz6irce2ug"
      },
      "outputs": [],
      "source": [
        "#1 - Crie um vetor com 10 números inteiros fornecidos pelo usuário e exiba a soma de todos os elementos.\n",
        "#criando a lista vazia\n",
        "numeros = []\n",
        "\n",
        "#leitura dos 10 números\n",
        "for x in range(10): #para x = 0 repita até x = 9\n",
        "  num = int(input(f'Digite o {x+1}º número:'))\n",
        "  numeros.append(num)\n",
        "#fim. x = x + 1\n",
        "\n",
        "#somando os 10 números da lista\n",
        "soma = 0\n",
        "for num in numeros:\n",
        "  soma+=num\n",
        "print(soma)"
      ]
    },
    {
      "cell_type": "code",
      "source": [
        "#2 - Leia um vetor com 5 nomes de pessoas e exiba os nomes em ordem alfabética.\n",
        "pessoas = ['João','José','Maria','Francisco','Luiz'] #cria o vetor de 5 nomes de pessoas\n",
        "pessoas.sort() #ordena o vetor pessoas\n",
        "print(pessoas) #imprime o vetor ordenado"
      ],
      "metadata": {
        "id": "0keu15oMvmVr"
      },
      "execution_count": null,
      "outputs": []
    },
    {
      "cell_type": "code",
      "source": [
        "#3 - Dado um vetor com 8 números inteiros, encontre e exiba o maior e o menor valor.\n",
        "numeros = [9,5,4,7,2,1,3,8]\n",
        "maior = max(numeros) #max é uma função que busca o maior valor em um vetor/matriz\n",
        "menor = min(numeros) #min é uma função que busca o menor valor em um vetor/matriz\n",
        "print(f'Maior valor:{maior} | Menor Valor:{menor}')"
      ],
      "metadata": {
        "id": "lQN5IQwJvq1a"
      },
      "execution_count": null,
      "outputs": []
    },
    {
      "cell_type": "code",
      "source": [
        "#4 - Peça ao usuário 10 números e armazene em um vetor. Em seguida, exiba apenas os números pares.\n",
        "\n",
        "numeros = [] #vetor vazio de números\n",
        "\n",
        "#Inserção dos valores\n",
        "for i in range(10):\n",
        "  num = int(input(f'Digite o valor {i+1}:'))\n",
        "  numeros.append(num)\n",
        "\n",
        "#Imprime os pares\n",
        "for num in numeros:\n",
        "  if num%2 == 0:\n",
        "    print(num,end=' ')\n"
      ],
      "metadata": {
        "id": "Pd8tu8qtv9T6"
      },
      "execution_count": null,
      "outputs": []
    },
    {
      "cell_type": "code",
      "source": [
        "#5 - Leia um vetor com 6 números reais e exiba a média aritmética dos valores.\n",
        "reais = [5.5,6.5,9,8.7,8,9.5] #Vetor de números reais\n",
        "media = sum(reais)/len(reais) #Soma dos elementos / tamanho do vetor(quantidade)\n",
        "print(f'Média da lista: {media:.1f}') #Impressão"
      ],
      "metadata": {
        "id": "HIpMOp7Ov_ri"
      },
      "execution_count": null,
      "outputs": []
    },
    {
      "cell_type": "code",
      "source": [
        "#6 - Crie um vetor de 10 elementos e conte quantos são maiores que 50.\n",
        "elementos = [15,574,11,89,67,48,51,24]\n",
        "cont = 0 #Inicializa o contador.\n",
        "for e in elementos: #Percorre todo o vetor.\n",
        "  if e > 50: #Se o elemento for maior que 50, alimenta o contador.\n",
        "    cont+=1 #Contador soma mais um.\n",
        "print(cont) #Ao fim de tudo, imprime quantos são maiores que 50."
      ],
      "metadata": {
        "id": "lNffDhAfv_pD"
      },
      "execution_count": null,
      "outputs": []
    },
    {
      "cell_type": "code",
      "source": [
        "#7 - Crie um vetor com 7 elementos e exiba os valores ao contrário (do último para o primeiro).\n",
        "elementos = [1,2,5,7,4,3,8] #cria o vetor de 7 elementos\n",
        "invertido = elementos[::-1]\n",
        "print(invertido) #imprime o vetor ordenado"
      ],
      "metadata": {
        "id": "urYOcY5-v_mq"
      },
      "execution_count": null,
      "outputs": []
    },
    {
      "cell_type": "code",
      "source": [
        "#8 - Leia um vetor com 5 elementos e verifique se há elementos repetidos. Exiba os valores duplicados.\n",
        "numbers = [1,2,2,3,3] #Elementos\n",
        "repetidos = [] #lista vazia de repetidos\n",
        "for n in numbers: #para cada item dos elementos\n",
        "  if numbers.count(n) > 1: #se a contagem for maior que 1\n",
        "    repetidos.append(n) #adiciona ao vetor de repetidos\n",
        "print(list(set(repetidos))) #Set converte em conjunto e elimina os repetidos\n"
      ],
      "metadata": {
        "id": "lR8F8vKVv_kC"
      },
      "execution_count": null,
      "outputs": []
    },
    {
      "cell_type": "code",
      "source": [
        "#9 - Crie um vetor com 10 números inteiros aleatórios entre 1 e 100. Em seguida, exiba os números ordenados.\n",
        "import random #importa a biblioteca de aleatorios\n",
        "inteiros = [] #cria o vetor vazio\n",
        "for i in range(10): #faz a rotação do comando de inserção 10x\n",
        "  while True: #repete até ter um ponto de parada\n",
        "    num = random.randint(1,60) #seleciona um valor aleatório entre 1 e 100\n",
        "    if num not in inteiros: #Se ele não está no vetor\n",
        "      inteiros.append(num) #adiciona ele no vetor\n",
        "      break #pausa o loop e vai escolher o próximo valor\n",
        "inteiros.sort() #ordena o vetor\n",
        "print(inteiros) #imprime o vetor"
      ],
      "metadata": {
        "id": "8WELBnnov_h1"
      },
      "execution_count": null,
      "outputs": []
    },
    {
      "cell_type": "code",
      "source": [
        "#10 - Leia um vetor com 6 elementos inteiros e solicite ao usuário um valor. Verifique se esse valor existe no vetor.\n",
        "elementos = [1,5,7,4,3,8] #cria o vetor de 6 elementos\n",
        "user_num = int(input('Digite um valor:')) #numero do usuário\n",
        "if user_num in elementos: #Se o elemento está no vetor\n",
        "  print(f'O valor {user_num} está no vetor ')\n",
        "else:# Se o elemento não está no vetor\n",
        "  print(f'O valor {user_num} não está no vetor ')"
      ],
      "metadata": {
        "id": "_1jgBrOyv_fN"
      },
      "execution_count": null,
      "outputs": []
    },
    {
      "cell_type": "code",
      "source": [
        "#11 - Crie uma matriz 3x3 e preencha com valores fornecidos pelo usuário. Em seguida, exiba a matriz formatada.\n",
        "matriz = [] #cria a matriz vazia\n",
        "\n",
        "for i in range(3): #Roda a quantidade de linhas da matriz\n",
        "  lista = [] #Cria uma linha na matriz vazia\n",
        "  for j in range(3): #Roda os elementos inserindo valor para cada linha/coluna\n",
        "    num = int(input(f'Valor [{i}][{j}]:')) #Valor inserido pelo usuário\n",
        "    lista.append(num) #adiciona o valor na linha\n",
        "  matriz.append(lista) #adiciona linha na matriz\n",
        "\n",
        "\n",
        "for i in range(3): #roda a linha\n",
        "  for j in range(3): #roda a coluna\n",
        "    print(matriz[i][j],end=' ') #imprime a linha\n",
        "  print() #muda de linha\n",
        "\n",
        "\n"
      ],
      "metadata": {
        "id": "KUek9bgZv_cz"
      },
      "execution_count": null,
      "outputs": []
    },
    {
      "cell_type": "code",
      "source": [
        "#12 - Gere uma matriz 4x4 com números aleatórios entre 1 e 20 e exiba a soma de todos os elementos.\n",
        "import random\n",
        "matriz = []\n",
        "for i in range(4):\n",
        "  linha = []\n",
        "  for j in range(4):\n",
        "    linha.append(random.randint(1,20))\n",
        "  matriz.append(linha)\n",
        "\n",
        "soma = 0\n",
        "for i in range(4):\n",
        "  for j in range(4):\n",
        "    print(matriz[i][j],end=' ')\n",
        "    soma += matriz[i][j]\n",
        "  print()\n",
        "print(f'Soma da matriz: {soma}')\n",
        ""
      ],
      "metadata": {
        "id": "Oiqgn4mBv_aK",
        "colab": {
          "base_uri": "https://localhost:8080/"
        },
        "outputId": "e437feea-9bab-4861-baf9-50b2d5f4b786"
      },
      "execution_count": 24,
      "outputs": [
        {
          "output_type": "stream",
          "name": "stdout",
          "text": [
            "15 7 9 2 \n",
            "16 4 7 15 \n",
            "10 3 14 12 \n",
            "12 6 14 15 \n",
            "Soma da matriz: 161\n"
          ]
        }
      ]
    },
    {
      "cell_type": "code",
      "source": [
        "#13 - Dada uma matriz 3x3 com números inteiros, exiba a soma dos elementos da diagonal principal.\n"
      ],
      "metadata": {
        "id": "N5oBWxnGv_Xa"
      },
      "execution_count": null,
      "outputs": []
    },
    {
      "cell_type": "code",
      "source": [
        "#14 - Leia uma matriz 2x3 e uma matriz 3x2. Em seguida, calcule e exiba a matriz produto (multiplicação de matrizes)."
      ],
      "metadata": {
        "id": "zR45QJz8v_U6"
      },
      "execution_count": null,
      "outputs": []
    },
    {
      "cell_type": "code",
      "source": [
        "#15 - Crie uma matriz 3x3 com valores inteiros. Conte quantos números pares ela possui."
      ],
      "metadata": {
        "id": "XfRdObjRv_SS"
      },
      "execution_count": null,
      "outputs": []
    },
    {
      "cell_type": "code",
      "source": [
        "#16 - Gere uma matriz 5x5 onde cada elemento seja igual à soma de sua linha e coluna (i + j)."
      ],
      "metadata": {
        "id": "iFWRkjcEv_Pq"
      },
      "execution_count": null,
      "outputs": []
    },
    {
      "cell_type": "code",
      "source": [
        "#17 - Dada uma matriz 4x4, encontre e exiba o maior elemento da matriz e sua posição (linha, coluna)."
      ],
      "metadata": {
        "id": "QURDFfq7v_NC"
      },
      "execution_count": null,
      "outputs": []
    },
    {
      "cell_type": "code",
      "source": [
        "#18 - Crie uma matriz identidade de ordem 4 (1s na diagonal principal e 0s no restante)."
      ],
      "metadata": {
        "id": "HLBGWMOkv_Ki"
      },
      "execution_count": null,
      "outputs": []
    },
    {
      "cell_type": "code",
      "source": [
        "#19 - Leia uma matriz 3x3 e exiba sua transposta (troca de linhas por colunas)."
      ],
      "metadata": {
        "id": "QnSFdYD0v_Hq"
      },
      "execution_count": null,
      "outputs": []
    },
    {
      "cell_type": "code",
      "source": [
        "#20 - Crie uma matriz 3x3 com valores fornecidos pelo usuário e verifique se ela é simétrica (igual à sua transposta)."
      ],
      "metadata": {
        "id": "YYzRZShwv-rq"
      },
      "execution_count": null,
      "outputs": []
    }
  ]
}
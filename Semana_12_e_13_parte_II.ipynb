{
  "nbformat": 4,
  "nbformat_minor": 0,
  "metadata": {
    "colab": {
      "provenance": [],
      "authorship_tag": "ABX9TyN+qlbYdTO+Ygn1rjr7Lox/",
      "include_colab_link": true
    },
    "kernelspec": {
      "name": "python3",
      "display_name": "Python 3"
    },
    "language_info": {
      "name": "python"
    }
  },
  "cells": [
    {
      "cell_type": "markdown",
      "metadata": {
        "id": "view-in-github",
        "colab_type": "text"
      },
      "source": [
        "<a href=\"https://colab.research.google.com/github/gnrochabr/ALGESTDADOS_20251/blob/main/Semana_12_e_13_parte_II.ipynb\" target=\"_parent\"><img src=\"https://colab.research.google.com/assets/colab-badge.svg\" alt=\"Open In Colab\"/></a>"
      ]
    },
    {
      "cell_type": "code",
      "source": [
        "#1 - Uma empresa está analisando os clientes que compraram dois produtos diferentes. A lista de clientes que compraram o produto A é {\"Ana\", \"João\", \"Carlos\"}, e do produto B é {\"Carlos\", \"Maria\", \"João\"}.Escreva um código que mostre o conjunto total de clientes distintos que compraram ao menos um dos dois produtos.\n",
        "A = {\"Ana\", \"João\", \"Carlos\"}\n",
        "B = {\"Carlos\", \"Maria\", \"João\"}\n",
        "print(A.union(B)) # A união de B"
      ],
      "metadata": {
        "id": "-saVqkOF8ZAT"
      },
      "execution_count": null,
      "outputs": []
    },
    {
      "cell_type": "code",
      "source": [
        "#2 - Considere os conjuntos A = {1, 2, 3, 4} e B = {3, 4, 5, 6}. Escreva um código que mostre os elementos que estão em A, mas não em B.\n",
        "A = {1,2,3,4}\n",
        "B = {3,4,5,6}\n",
        "print(A.difference(B)) # A intersecção de B"
      ],
      "metadata": {
        "id": "8R4xX096CVPJ"
      },
      "execution_count": null,
      "outputs": []
    },
    {
      "cell_type": "code",
      "source": [
        "#3 - Considere os conjuntos x = {10, 20, 30} e y = {30, 40, 50}.Escreva um código que mostre os elementos que pertencem a apenas um dos conjuntos, mas não aos dois ao mesmo tempo.\n",
        "x = {10, 20, 30}\n",
        "y = {30, 40, 50}\n",
        "print((x.difference(y)).union(y.difference(x))) #Opção 1\n",
        "print(x.symmetric_difference(y)) #Opção 2"
      ],
      "metadata": {
        "id": "b07VOr6CCy5J"
      },
      "execution_count": null,
      "outputs": []
    },
    {
      "cell_type": "code",
      "source": [
        "#4 - Considere a tupla dados = (\"João\", 25, \"Engenheiro\"). Tente alterar a idade da pessoa para 30 e observe o que acontece. Explique o motivo do erro e o conceito envolvido.\n",
        "dados = (\"João\", 25, \"Engenheiro\")\n",
        "dados[1] = 30\n",
        "#Vai dar erro, pois as tuplas são inalteráveis."
      ],
      "metadata": {
        "id": "Q8TyqhObWj4j"
      },
      "execution_count": null,
      "outputs": []
    },
    {
      "cell_type": "code",
      "source": [
        "#5 - Dada a tupla valores = (5, 10, 15, 20), escreva um código que exiba o último elemento da tupla.\n",
        "valores = (5,10,15,20)\n",
        "print(valores[-1]) #Opção 1 - Notação -1 que pega o último elemento de uma coleção\n",
        "print(valores[len(valores)-1]) # Opção 2 - Tamanho da coleção - 1\n",
        "print(valores[3]) #Opção 3 - Índice do elemento"
      ],
      "metadata": {
        "id": "pQl0hlFtWly5"
      },
      "execution_count": null,
      "outputs": []
    },
    {
      "cell_type": "code",
      "source": [
        "#6 - Considere a tupla pessoa = (\"Ana\", 30, \"Designer\"). Desempacote essa tupla em três variáveis e exiba apenas o conteúdo da variável que representa a profissão.\n",
        "pessoa = (\"Ana\", 30, \"Designer\")\n"
      ],
      "metadata": {
        "id": "i7_geNLUWl6Y"
      },
      "execution_count": null,
      "outputs": []
    },
    {
      "cell_type": "code",
      "source": [
        "#7 - Crie um dicionário chamado alunos que armazene o nome e a idade de dois alunos. Em seguida, imprima esse dicionário.\n"
      ],
      "metadata": {
        "id": "jWk7xgOLWmAZ"
      },
      "execution_count": null,
      "outputs": []
    },
    {
      "cell_type": "code",
      "source": [
        "#8 - Considere o dicionário produtos = {\"arroz\": 5.60, \"feijão\": 7.80, \"macarrão\": 4.20}. Escreva um código que acesse e exiba o valor associado à chave \"feijão\"."
      ],
      "metadata": {
        "id": "rvQJU7F6WmFR"
      },
      "execution_count": null,
      "outputs": []
    },
    {
      "cell_type": "code",
      "source": [
        "#9 - Crie um dicionário vazio chamado aluno. Adicione as chaves \"nome\" com valor \"Carlos\" e \"idade\" com valor 21. Imprima o conteúdo final do dicionário."
      ],
      "metadata": {
        "id": "zSYohocvWmNI"
      },
      "execution_count": null,
      "outputs": []
    },
    {
      "cell_type": "code",
      "source": [
        "#10 - Analise o código dados = {\"id\": 123, \"nome\": \"Ana\", \"id\": 456}. Explique o valor final da chave \"id\" e escreva um código que comprove esse comportamento."
      ],
      "metadata": {
        "id": "E3DqW0g9WmRJ"
      },
      "execution_count": null,
      "outputs": []
    },
    {
      "cell_type": "code",
      "source": [
        "#11 - Dado o conjunto frutas = {\"maçã\", \"banana\", \"laranja\"}, escreva um código que remova o item \"abacaxi\" sem gerar erro."
      ],
      "metadata": {
        "id": "pBSNXLmGWmUI"
      },
      "execution_count": null,
      "outputs": []
    },
    {
      "cell_type": "code",
      "source": [
        "#12 - Escreva um código que utilize uma tupla como chave em um dicionário. Utilize como exemplo a tupla (2024, \"Maria\") associada ao valor \"Presente\" e imprima o dicionário."
      ],
      "metadata": {
        "id": "wN9lim6_WmXK"
      },
      "execution_count": null,
      "outputs": []
    },
    {
      "cell_type": "code",
      "source": [
        "#13 - Dada a lista lista = [1, 2, 2, 3, 3, 3, 4], escreva um código que remova os elementos duplicados e exiba apenas os valores únicos."
      ],
      "metadata": {
        "id": "bCIdbL5NWmZ4"
      },
      "execution_count": null,
      "outputs": []
    },
    {
      "cell_type": "code",
      "source": [
        "#14 - Dado o dicionário notas = {\"Lucas\": 8.5, \"Julia\": 9.0, \"Bruno\": 7.5}, escreva um código que exiba o nome do aluno seguido da nota em cada linha, no formato: Aluno: Nota"
      ],
      "metadata": {
        "id": "7QTZ-KurWmcx"
      },
      "execution_count": null,
      "outputs": []
    },
    {
      "cell_type": "code",
      "source": [
        "#15 - Dado o dicionário:\n",
        "'''\n",
        "turma = {\n",
        "\n",
        "    \"Ana\": (8.0, 7.5),\n",
        "\n",
        "    \"Pedro\": (6.0, 5.5),\n",
        "\n",
        "    \"Laura\": (9.5, 9.0)\n",
        "\n",
        "}\n",
        "\n",
        "Escreva um código que crie um conjunto com os nomes dos alunos que obtiveram nota 9.5 em pelo menos uma das provas.'''"
      ],
      "metadata": {
        "id": "nB5LyQqYWmfY"
      },
      "execution_count": null,
      "outputs": []
    },
    {
      "cell_type": "code",
      "source": [],
      "metadata": {
        "id": "bF9LOgsOWmj5"
      },
      "execution_count": null,
      "outputs": []
    },
    {
      "cell_type": "code",
      "source": [],
      "metadata": {
        "id": "5Zd96omgWmmi"
      },
      "execution_count": null,
      "outputs": []
    },
    {
      "cell_type": "code",
      "source": [],
      "metadata": {
        "id": "ptprsU5lWmpA"
      },
      "execution_count": null,
      "outputs": []
    },
    {
      "cell_type": "code",
      "source": [],
      "metadata": {
        "id": "bJ3tWsyXWmry"
      },
      "execution_count": null,
      "outputs": []
    },
    {
      "cell_type": "code",
      "source": [],
      "metadata": {
        "id": "OZqT1hKTWmuY"
      },
      "execution_count": null,
      "outputs": []
    },
    {
      "cell_type": "code",
      "source": [],
      "metadata": {
        "id": "6d9kwp79Wmww"
      },
      "execution_count": null,
      "outputs": []
    }
  ]
}
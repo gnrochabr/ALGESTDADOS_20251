{
  "nbformat": 4,
  "nbformat_minor": 0,
  "metadata": {
    "colab": {
      "provenance": [],
      "authorship_tag": "ABX9TyNEuKbTrjLb1tbN8BfZpk9M",
      "include_colab_link": true
    },
    "kernelspec": {
      "name": "python3",
      "display_name": "Python 3"
    },
    "language_info": {
      "name": "python"
    }
  },
  "cells": [
    {
      "cell_type": "markdown",
      "metadata": {
        "id": "view-in-github",
        "colab_type": "text"
      },
      "source": [
        "<a href=\"https://colab.research.google.com/github/gnrochabr/ALGESTDADOS_20251/blob/main/Semana_18.ipynb\" target=\"_parent\"><img src=\"https://colab.research.google.com/assets/colab-badge.svg\" alt=\"Open In Colab\"/></a>"
      ]
    },
    {
      "cell_type": "code",
      "execution_count": 11,
      "metadata": {
        "colab": {
          "base_uri": "https://localhost:8080/"
        },
        "id": "RggAjoKcpfRc",
        "outputId": "1f5cda0c-4b51-4cf7-82ac-c34d4fb7c738"
      },
      "outputs": [
        {
          "output_type": "stream",
          "name": "stdout",
          "text": [
            "a) ['Kiwi', 'Banana', 'Manga', 'Uva', 'Laranja']\n",
            "b) ['Kiwi', 'Banana', 'Manga', 'Uva', 'Laranja', 'Jaca']\n",
            "c) ['Kiwi', 'Manga', 'Uva', 'Laranja', 'Jaca']\n",
            "d) ['Kiwi', 'Manga', 'Uva']\n",
            "e) ['Jaca', 'Kiwi', 'Laranja', 'Manga', 'Uva']\n"
          ]
        }
      ],
      "source": [
        "#1 - Listas\n",
        "#a) Crie uma lista com os nomes de 5 frutas.\n",
        "frutas = ['Kiwi','Banana','Manga','Uva','Laranja']\n",
        "print('a)',frutas)\n",
        "\n",
        "#b) Adicione uma fruta ao final da lista.\n",
        "frutas.append('Jaca')\n",
        "print('b)',frutas)\n",
        "\n",
        "#c) Remova a segunda fruta da lista.\n",
        "frutas.remove(frutas[1])\n",
        "print('c)',frutas)\n",
        "\n",
        "#d) Mostre apenas os 3 primeiros itens da lista.\n",
        "print('d)',frutas[:3])\n",
        "\n",
        "#e) Ordene a lista em ordem alfabética.\n",
        "frutas.sort()\n",
        "print('e)',frutas)"
      ]
    },
    {
      "cell_type": "code",
      "source": [
        "#2 - Tuplas\n",
        "#a) Crie uma tupla com 4 números inteiros.\n",
        "numeros = (1,2,3,4)\n",
        "print('a) ',type(numeros),numeros)\n",
        "\n",
        "#b) Mostre o maior valor da tupla.\n",
        "print('b) ',max(numeros))\n",
        "\n",
        "#c) Transforme a tupla em lista e adicione um novo número.\n",
        "numeros_lista = list(numeros) #Casting para lista\n",
        "numeros_lista.append(5) #adiciono o novo valor\n",
        "print('c) ',type(numeros_lista),numeros_lista)\n",
        "\n",
        "#d) Converta novamente em tupla.\n",
        "numeros = tuple(numeros_lista) #Casting para tupla\n",
        "print('d) ',type(numeros),numeros)"
      ],
      "metadata": {
        "colab": {
          "base_uri": "https://localhost:8080/"
        },
        "id": "DQwRutuOsc91",
        "outputId": "2247a0c3-7ff9-4f1c-8a9a-109a86d90059"
      },
      "execution_count": 20,
      "outputs": [
        {
          "output_type": "stream",
          "name": "stdout",
          "text": [
            "a)  <class 'tuple'> (1, 2, 3, 4)\n",
            "b)  4\n",
            "c)  <class 'list'> [1, 2, 3, 4, 5]\n",
            "d)  <class 'tuple'> (1, 2, 3, 4, 5)\n"
          ]
        }
      ]
    }
  ]
}
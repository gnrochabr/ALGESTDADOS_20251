{
  "nbformat": 4,
  "nbformat_minor": 0,
  "metadata": {
    "colab": {
      "provenance": [],
      "authorship_tag": "ABX9TyOjJ5bMlTNJZHOqtSOyq6S1",
      "include_colab_link": true
    },
    "kernelspec": {
      "name": "python3",
      "display_name": "Python 3"
    },
    "language_info": {
      "name": "python"
    }
  },
  "cells": [
    {
      "cell_type": "markdown",
      "metadata": {
        "id": "view-in-github",
        "colab_type": "text"
      },
      "source": [
        "<a href=\"https://colab.research.google.com/github/gnrochabr/ALGESTDADOS_20251/blob/main/Semana_18.ipynb\" target=\"_parent\"><img src=\"https://colab.research.google.com/assets/colab-badge.svg\" alt=\"Open In Colab\"/></a>"
      ]
    },
    {
      "cell_type": "code",
      "execution_count": null,
      "metadata": {
        "colab": {
          "base_uri": "https://localhost:8080/"
        },
        "id": "RggAjoKcpfRc",
        "outputId": "1f5cda0c-4b51-4cf7-82ac-c34d4fb7c738"
      },
      "outputs": [
        {
          "output_type": "stream",
          "name": "stdout",
          "text": [
            "a) ['Kiwi', 'Banana', 'Manga', 'Uva', 'Laranja']\n",
            "b) ['Kiwi', 'Banana', 'Manga', 'Uva', 'Laranja', 'Jaca']\n",
            "c) ['Kiwi', 'Manga', 'Uva', 'Laranja', 'Jaca']\n",
            "d) ['Kiwi', 'Manga', 'Uva']\n",
            "e) ['Jaca', 'Kiwi', 'Laranja', 'Manga', 'Uva']\n"
          ]
        }
      ],
      "source": [
        "#1 - Listas\n",
        "#a) Crie uma lista com os nomes de 5 frutas.\n",
        "frutas = ['Kiwi','Banana','Manga','Uva','Laranja']\n",
        "print('a)',frutas)\n",
        "\n",
        "#b) Adicione uma fruta ao final da lista.\n",
        "frutas.append('Jaca')\n",
        "print('b)',frutas)\n",
        "\n",
        "#c) Remova a segunda fruta da lista.\n",
        "frutas.remove(frutas[1])\n",
        "print('c)',frutas)\n",
        "\n",
        "#d) Mostre apenas os 3 primeiros itens da lista.\n",
        "print('d)',frutas[:3])\n",
        "\n",
        "#e) Ordene a lista em ordem alfabética.\n",
        "frutas.sort()\n",
        "print('e)',frutas)"
      ]
    },
    {
      "cell_type": "code",
      "source": [
        "#2 - Tuplas\n",
        "#a) Crie uma tupla com 4 números inteiros.\n",
        "numeros = (1,2,3,4)\n",
        "print('a) ',type(numeros),numeros)\n",
        "\n",
        "#b) Mostre o maior valor da tupla.\n",
        "print('b) ',max(numeros))\n",
        "\n",
        "#c) Transforme a tupla em lista e adicione um novo número.\n",
        "numeros_lista = list(numeros) #Casting para lista\n",
        "numeros_lista.append(5) #adiciono o novo valor\n",
        "print('c) ',type(numeros_lista),numeros_lista)\n",
        "\n",
        "#d) Converta novamente em tupla.\n",
        "numeros = tuple(numeros_lista) #Casting para tupla\n",
        "print('d) ',type(numeros),numeros)"
      ],
      "metadata": {
        "colab": {
          "base_uri": "https://localhost:8080/"
        },
        "id": "DQwRutuOsc91",
        "outputId": "2247a0c3-7ff9-4f1c-8a9a-109a86d90059"
      },
      "execution_count": null,
      "outputs": [
        {
          "output_type": "stream",
          "name": "stdout",
          "text": [
            "a)  <class 'tuple'> (1, 2, 3, 4)\n",
            "b)  4\n",
            "c)  <class 'list'> [1, 2, 3, 4, 5]\n",
            "d)  <class 'tuple'> (1, 2, 3, 4, 5)\n"
          ]
        }
      ]
    },
    {
      "cell_type": "code",
      "source": [
        "#3 - Conjuntos (set)\n",
        "\n",
        "#a) Crie dois conjuntos com nomes de cidades. Alguns nomes devem se repetir.\n",
        "conjuntoA = {'Nova Venécia', 'Jaguaré', 'São Mateus', 'Vila Valério'}\n",
        "conjuntoB = {'Ecoporanga', 'Vila Pavão', 'Pinheiros', 'Nova Venécia'}\n",
        "print('a)\\n',conjuntoA,'\\n',conjuntoB)\n",
        "\n",
        "#b) Mostre a união dos conjuntos.\n",
        "print('\\nb)\\n',conjuntoA.union(conjuntoB))\n",
        "\n",
        "#c) Mostre a interseção dos conjuntos.\n",
        "print('\\nc)\\n',conjuntoA.intersection(conjuntoB))\n",
        "\n",
        "#d) Adicione uma nova cidade ao primeiro conjunto.\n",
        "conjuntoA.add('Boa Esperança')\n",
        "print('\\nd)\\n',conjuntoA)"
      ],
      "metadata": {
        "colab": {
          "base_uri": "https://localhost:8080/"
        },
        "id": "Vilm-ebnwgZJ",
        "outputId": "5021657b-df24-4bf4-9a31-8346d29c188b"
      },
      "execution_count": null,
      "outputs": [
        {
          "output_type": "stream",
          "name": "stdout",
          "text": [
            "a)\n",
            " {'Vila Valério', 'Jaguaré', 'Nova Venécia', 'São Mateus'} \n",
            " {'Pinheiros', 'Nova Venécia', 'Vila Pavão', 'Ecoporanga'}\n",
            "\n",
            "b)\n",
            " {'Pinheiros', 'Nova Venécia', 'Jaguaré', 'São Mateus', 'Ecoporanga', 'Vila Valério', 'Vila Pavão'}\n",
            "\n",
            "c)\n",
            " {'Nova Venécia'}\n",
            "\n",
            "d)\n",
            " {'Nova Venécia', 'Jaguaré', 'Boa Esperança', 'São Mateus', 'Vila Valério'}\n"
          ]
        }
      ]
    },
    {
      "cell_type": "code",
      "source": [
        "# 4 - Dicionários\n",
        "# a) Crie um dicionário com informações de um aluno: nome, idade, curso.\n",
        "aluno = {\n",
        "    'Nome':'Fulaninho de Mauá',\n",
        "    'Idade': 18,\n",
        "    'Curso': 'Engenharia Civil'\n",
        "}\n",
        "print('\\na)',type(aluno),'\\n',aluno)\n",
        "\n",
        "# b) Adicione uma chave chamada \"nota_final\" com valor 8.5.\n",
        "aluno['Nota_Final'] = 8.5\n",
        "print('\\nb)',type(aluno),'\\n',aluno)\n",
        "\n",
        "# c) Modifique a idade do aluno para 21.\n",
        "aluno['Idade'] = 21\n",
        "print('\\nc)',type(aluno),'\\n',aluno)\n",
        "\n",
        "# d) Remova a chave “curso” do dicionário.\n",
        "#del aluno['Curso']\n",
        "aluno.pop('Curso')\n",
        "print('\\nd)',type(aluno),'\\n',aluno)\n",
        "\n",
        "# e) Mostre todas as chaves e valores.\n",
        "print('\\ne)')\n",
        "for chave, valor in aluno.items():\n",
        "  print(chave,':',valor)"
      ],
      "metadata": {
        "colab": {
          "base_uri": "https://localhost:8080/"
        },
        "id": "ZuU3b94xwqWa",
        "outputId": "4b234fe5-7ada-45fb-a8ce-61e217d38c72"
      },
      "execution_count": null,
      "outputs": [
        {
          "output_type": "stream",
          "name": "stdout",
          "text": [
            "\n",
            "a) <class 'dict'> \n",
            " {'Nome': 'Fulaninho de Mauá', 'Idade': 18, 'Curso': 'Engenharia Civil'}\n",
            "\n",
            "b) <class 'dict'> \n",
            " {'Nome': 'Fulaninho de Mauá', 'Idade': 18, 'Curso': 'Engenharia Civil', 'Nota_Final': 8.5}\n",
            "\n",
            "c) <class 'dict'> \n",
            " {'Nome': 'Fulaninho de Mauá', 'Idade': 21, 'Curso': 'Engenharia Civil', 'Nota_Final': 8.5}\n",
            "\n",
            "d) <class 'dict'> \n",
            " {'Nome': 'Fulaninho de Mauá', 'Idade': 21, 'Nota_Final': 8.5}\n",
            "\n",
            "e)\n",
            "Nome : Fulaninho de Mauá\n",
            "Idade : 21\n",
            "Nota_Final : 8.5\n"
          ]
        }
      ]
    },
    {
      "cell_type": "code",
      "source": [
        "# 5 - Leitura e escrita em arquivos .txt\n",
        "# a) Crie um arquivo chamado notas.txt e escreva o nome de 3 alunos e suas notas. Cada linha deve conter:\n",
        "# Aluno: João - Nota: 7.5\n",
        "# Aluno: Ana - Nota: 9.0\n",
        "# Aluno: Carla - Nota: 6.8\n",
        "with open('notas.txt','w',encoding='utf-8') as notas:\n",
        "  notas.write('Aluno: João - Nota: 7.5\\n')\n",
        "  notas.write('Aluno: Ana - Nota: 9.0\\n')\n",
        "  notas.write('Aluno: Carla - Nota: 6.8')\n",
        "\n",
        "with open('notas.txt','r',encoding='utf-8') as lendo_notas:\n",
        "  print('a)\\n',lendo_notas.read())\n",
        "\n",
        "# b) Acrescente mais um aluno ao final do arquivo.\n",
        "with open('notas.txt','a',encoding='utf-8') as notas:\n",
        "  notas.write('\\nAluno: Josué - Nota: 8.5')\n",
        "\n",
        "with open('notas.txt','r',encoding='utf-8') as lendo_notas:\n",
        "  print('\\nb)\\n',lendo_notas.read())\n",
        "\n",
        "# c) Leia e exiba todas as linhas do arquivo.\n",
        "with open('notas.txt','r',encoding='utf-8') as lendo_notas:\n",
        "  linhas = lendo_notas.readlines()\n",
        "  print('\\nc)')\n",
        "  for l in linhas:\n",
        "    print(l.strip())\n",
        "\n",
        "# d) Conte quantas linhas há no arquivo.\n",
        "  print('\\nd)',len(linhas))\n",
        "\n",
        "# e) Mostre apenas os nomes dos alunos.\n",
        "with open('notas.txt','r',encoding='utf-8') as lendo_notas:\n",
        "  linhas = lendo_notas.readlines()\n",
        "  print('\\nc)')\n",
        "  for l in linhas:\n",
        "    print(l.split('-')[0].replace('Aluno :','').strip())\n",
        "\n"
      ],
      "metadata": {
        "colab": {
          "base_uri": "https://localhost:8080/"
        },
        "id": "48F6nbF91uXp",
        "outputId": "29fc292c-547e-490f-ba4b-fd676d1398a8"
      },
      "execution_count": null,
      "outputs": [
        {
          "output_type": "stream",
          "name": "stdout",
          "text": [
            "a)\n",
            " Aluno: João - Nota: 7.5\n",
            "Aluno: Ana - Nota: 9.0\n",
            "Aluno: Carla - Nota: 6.8\n",
            "\n",
            "b)\n",
            " Aluno: João - Nota: 7.5\n",
            "Aluno: Ana - Nota: 9.0\n",
            "Aluno: Carla - Nota: 6.8\n",
            "Aluno: Josué - Nota: 8.5\n",
            "\n",
            "c)\n",
            "Aluno: João - Nota: 7.5\n",
            "Aluno: Ana - Nota: 9.0\n",
            "Aluno: Carla - Nota: 6.8\n",
            "Aluno: Josué - Nota: 8.5\n",
            "\n",
            "d) 4\n",
            "\n",
            "c)\n",
            "Aluno: João\n",
            "Aluno: Ana\n",
            "Aluno: Carla\n",
            "Aluno: Josué\n"
          ]
        }
      ]
    }
  ]
}
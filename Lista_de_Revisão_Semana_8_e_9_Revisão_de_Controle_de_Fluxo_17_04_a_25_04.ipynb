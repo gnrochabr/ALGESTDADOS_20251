{
  "nbformat": 4,
  "nbformat_minor": 0,
  "metadata": {
    "colab": {
      "provenance": [],
      "authorship_tag": "ABX9TyMRmFp0ebkAvtL1tjtHLjl/",
      "include_colab_link": true
    },
    "kernelspec": {
      "name": "python3",
      "display_name": "Python 3"
    },
    "language_info": {
      "name": "python"
    }
  },
  "cells": [
    {
      "cell_type": "markdown",
      "metadata": {
        "id": "view-in-github",
        "colab_type": "text"
      },
      "source": [
        "<a href=\"https://colab.research.google.com/github/gnrochabr/ALGESTDADOS_20251/blob/main/Lista_de_Revis%C3%A3o_Semana_8_e_9_Revis%C3%A3o_de_Controle_de_Fluxo_17_04_a_25_04.ipynb\" target=\"_parent\"><img src=\"https://colab.research.google.com/assets/colab-badge.svg\" alt=\"Open In Colab\"/></a>"
      ]
    },
    {
      "cell_type": "code",
      "execution_count": null,
      "metadata": {
        "id": "VxoxiAeMtZtC"
      },
      "outputs": [],
      "source": [
        "#1 Escreva um programa que leia a idade de uma pessoa e diga se ela é menor de idade (menos de 18 anos), maior de idade (entre 18 e 60) ou idosa (mais de 60 anos). Use if, elif e else.\n",
        "idade = int(input('Digite a sua idade:'))\n",
        "if idade < 18:\n",
        "  print('Menor de idade')\n",
        "elif idade < 60:\n",
        "  print('Maior de idade')\n",
        "else:\n",
        "  print('Idoso')"
      ]
    },
    {
      "cell_type": "code",
      "source": [
        "#2 Faça um programa que leia um número inteiro e diga se ele é par, ímpar ou igual a zero, usando uma estrutura condicional.\n",
        "numero = int(input('Digite um número:'))\n",
        "if numero == 0:\n",
        "  print('Zero')\n",
        "elif numero%2 == 0:\n",
        "  print('Par')\n",
        "else:\n",
        "  print('Ímpar')"
      ],
      "metadata": {
        "id": "YhaHAxXStzlo"
      },
      "execution_count": null,
      "outputs": []
    },
    {
      "cell_type": "code",
      "source": [
        "#3 Crie um programa que leia dois números inteiros e mostre qual dos dois é o maior, qual é o menor ou se os dois são iguais. Use estruturas if, elif e else.\n",
        "numeroA = int(input('Digite o 1º número:'))\n",
        "numeroB = int(input('Digite o 2º número:'))\n",
        "if numeroA == numeroB:\n",
        "  print('São iguais')\n",
        "elif numeroA > numeroB:\n",
        "  print(f'O {numeroA} é maior que o {numeroB}')\n",
        "else:\n",
        "  print(f'O {numeroB} é maior que o {numeroA}')"
      ],
      "metadata": {
        "id": "mn6WUUbguC6S"
      },
      "execution_count": null,
      "outputs": []
    },
    {
      "cell_type": "code",
      "source": [
        "#4 Escreva um programa que leia um número de 1 a 7 e mostre o dia da semana correspondente (por exemplo, 1 = segunda-feira, 2 = terça, etc). Se o número for inválido (menor que 1 ou maior que 7), mostre uma mensagem de erro. Use if, elif e else.\n",
        "dia = int(input('Digite um número de dia da semana (1-7):'))\n",
        "if dia == 1:\n",
        "  print('Domingo')\n",
        "elif dia == 2:\n",
        "  print('Segunda')\n",
        "elif dia == 3:\n",
        "  print('Terça')\n",
        "elif dia == 4:\n",
        "  print('Quarta')\n",
        "elif dia == 5:\n",
        "  print('Quinta')\n",
        "elif dia == 6:\n",
        "  print('Sexta')\n",
        "elif dia == 7:\n",
        "  print('Sábado')\n",
        "else:\n",
        "  print('Opção Inválida')"
      ],
      "metadata": {
        "id": "4Lu-gXEqumoG"
      },
      "execution_count": null,
      "outputs": []
    },
    {
      "cell_type": "code",
      "source": [
        "#5 Escreva um programa com for in range que imprima os números de 1 a 10, dizendo se cada número é par ou ímpar.\n",
        "for i in range(1,11):\n",
        "  if i%2 == 0:\n",
        "    print(f'{i} - Par')\n",
        "  else:\n",
        "    print(f'{i} - Ímpar')\n"
      ],
      "metadata": {
        "id": "fj0_sb8Dv7-B"
      },
      "execution_count": null,
      "outputs": []
    },
    {
      "cell_type": "code",
      "source": [
        "#6 Crie um programa com while que leia vários números inteiros. O programa deve continuar enquanto o número digitado não for igual a zero. Ao final, mostre quantos números positivos e quantos negativos foram digitados.\n",
        "num = 1\n",
        "positivos = 0\n",
        "negativos = 0\n",
        "while num!=0:\n",
        "  num = int(input('Digite um número: '))\n",
        "  if num > 0:\n",
        "    positivos+=1\n",
        "  elif num < 0:\n",
        "    negativos+=1\n",
        "print(f'{positivos} positivos e {negativos} negativos!')"
      ],
      "metadata": {
        "id": "m2vlMBQFwtHi"
      },
      "execution_count": null,
      "outputs": []
    },
    {
      "cell_type": "code",
      "source": [
        "#7 Faça um programa com for que conte de 10 até 1 (ordem decrescente). Para cada número, diga se ele é múltiplo de 3 ou não.\n",
        "for i in range(10,0,-1):\n",
        "  if i%3==0:\n",
        "    print(f'{i} é múltiplo de 3.')\n",
        "  else:\n",
        "    print(f'{i} não é múltiplo de 3.')"
      ],
      "metadata": {
        "colab": {
          "base_uri": "https://localhost:8080/"
        },
        "id": "E2GxVL3yjsZN",
        "outputId": "e8edaa33-d221-4326-c58d-ad0ef9fae2ae"
      },
      "execution_count": 3,
      "outputs": [
        {
          "output_type": "stream",
          "name": "stdout",
          "text": [
            "10 não é múltiplo de 3.\n",
            "9 é múltiplo de 3.\n",
            "8 não é múltiplo de 3.\n",
            "7 não é múltiplo de 3.\n",
            "6 é múltiplo de 3.\n",
            "5 não é múltiplo de 3.\n",
            "4 não é múltiplo de 3.\n",
            "3 é múltiplo de 3.\n",
            "2 não é múltiplo de 3.\n",
            "1 não é múltiplo de 3.\n"
          ]
        }
      ]
    },
    {
      "cell_type": "code",
      "source": [
        "#8 Escreva um programa com while True que peça a senha do usuário até que ele digite a senha correta (por exemplo, \"1234\"). Quando a senha for correta, o programa deve mostrar uma mensagem de acesso permitido e encerrar.\n",
        "while True:\n",
        "  password = input('Digite sua Senha: ')\n",
        "  if password == '1234':\n",
        "    print('Senha Correta, Acesso permitido')\n",
        "    break\n",
        "  else:\n",
        "    print('Senha Incorreta - Acesso Negado')"
      ],
      "metadata": {
        "id": "XxLU2H0ijsW6"
      },
      "execution_count": null,
      "outputs": []
    },
    {
      "cell_type": "code",
      "source": [
        "#9 Crie um programa com for in range para ler 5 números inteiros, um por vez. Ao final, mostre quantos desses números são maiores que 100.\n",
        "lista = [72,58,120,210,89] #Lista com 5 números inteiros\n",
        "conta_maiores = 0 #Inicializa o contador de número maiores que 100\n",
        "for i in range(0,len(lista)):#Percorre os índices da lista e usa item a item\n",
        "#similar a >>> for i in range(0,5)\n",
        "  if lista[i] > 100: #Verifica se o item selecionado é maior que 100.\n",
        "    conta_maiores+=1 #Se o item for maior que 100 amplia o contador.\n",
        "print(f'Na lista tem {conta_maiores} números maiores que 100') #Imprime o quantitativo no fim"
      ],
      "metadata": {
        "id": "XYrbnD0OjsUb"
      },
      "execution_count": null,
      "outputs": []
    },
    {
      "cell_type": "code",
      "source": [
        "#10 Escreva um programa com while que leia a idade de várias pessoas. O programa deve continuar até que uma idade negativa seja digitada. No final, mostre a média das idades válidas digitadas.\n",
        "idade = 0 #inicializando o repetidor\n",
        "soma = 0 #pegar a soma das idades\n",
        "cont = 0 #contar quantas idades foram digitadas\n",
        "\n",
        "while idade >= 0: #Enquanto não for negativo\n",
        "  idade = int(input('Digite a idade: '))\n",
        "  if idade > 0:\n",
        "    cont+=1\n",
        "    soma+=idade\n",
        "\n",
        "if soma > 0:\n",
        "  media = soma/cont\n",
        "  print(f'Foram digitadas {cont} idades, com média de {(media):.1f} anos.')\n",
        "else:\n",
        "  print('Não foram digitadas idades válidas')"
      ],
      "metadata": {
        "colab": {
          "base_uri": "https://localhost:8080/"
        },
        "id": "5cmHP8sDjsSK",
        "outputId": "25b27741-e708-4f3a-e9e7-4b45f2228e8a"
      },
      "execution_count": 20,
      "outputs": [
        {
          "output_type": "stream",
          "name": "stdout",
          "text": [
            "Digite a idade: -1\n",
            "Não foram digitadas idades válidas\n"
          ]
        }
      ]
    },
    {
      "cell_type": "code",
      "source": [
        "#11 Escreva um programa com for que leia um número inteiro e exiba a tabuada de multiplicação desse número de 1 até 10."
      ],
      "metadata": {
        "id": "DvPszXbsjsPz"
      },
      "execution_count": null,
      "outputs": []
    },
    {
      "cell_type": "code",
      "source": [
        "#12 Escreva um programa com while que simule um caixa eletrônico. Peça ao usuário o valor do saque (apenas valores múltiplos de 2) e calcule quantas notas de 50, 20, 10, 5 e 2 são necessárias. Não use listas. Mostre o total de cada nota usada."
      ],
      "metadata": {
        "id": "yEceIhDmjsNj"
      },
      "execution_count": null,
      "outputs": []
    },
    {
      "cell_type": "code",
      "source": [
        "#13 Escreva um programa com for que leia 10 números inteiros e diga ao final quantos deles são pares e quantos são ímpares."
      ],
      "metadata": {
        "id": "-qBAY0OCjsLE"
      },
      "execution_count": null,
      "outputs": []
    },
    {
      "cell_type": "code",
      "source": [
        "#14 Crie um programa com while que leia um número inteiro positivo. Se o usuário digitar um número negativo, o programa deve mostrar uma mensagem de erro e continuar pedindo até que um número válido seja digitado.\n"
      ],
      "metadata": {
        "id": "MbQK28jukRBX"
      },
      "execution_count": null,
      "outputs": []
    },
    {
      "cell_type": "code",
      "source": [
        "#15 Escreva um programa com for e enumerate que mostre os números de 5 até 15. Para cada número, diga sua posição na sequência (iniciando do 0) e se ele é par ou ímpar."
      ],
      "metadata": {
        "id": "4l_-1gQkjsI7"
      },
      "execution_count": null,
      "outputs": []
    },
    {
      "cell_type": "code",
      "source": [
        "#16 Escreva um programa com while que simule uma votação. O usuário pode votar no candidato A (1), candidato B (2) ou encerrar (0). O programa deve continuar até que o número 0 seja digitado. Ao final, mostre a quantidade de votos para cada candidato."
      ],
      "metadata": {
        "id": "qmqSYjxjjsGi"
      },
      "execution_count": null,
      "outputs": []
    },
    {
      "cell_type": "code",
      "source": [
        "#17 Escreva um programa com for in range que percorra os números de 1 a 50. Para cada número, diga se ele é divisível por 5, por 7, por ambos, ou por nenhum dos dois."
      ],
      "metadata": {
        "id": "GO0IQNu8jsEC"
      },
      "execution_count": null,
      "outputs": []
    },
    {
      "cell_type": "code",
      "source": [
        "#18 Escreva um programa com while que leia dois números inteiros e diga qual é o maior. Depois, pergunte ao usuário se ele deseja comparar outros dois números. O programa só termina se a resposta for diferente de \"s\"."
      ],
      "metadata": {
        "id": "jWWbC0zzjsBs"
      },
      "execution_count": null,
      "outputs": []
    },
    {
      "cell_type": "code",
      "source": [
        "#19 Escreva um programa com for in que leia uma palavra de até 10 letras, pedindo uma letra por vez. Ao final, o programa deve mostrar quais letras são vogais e quais são consoantes. Não use listas."
      ],
      "metadata": {
        "id": "-Whmai8Tjr4C"
      },
      "execution_count": null,
      "outputs": []
    },
    {
      "cell_type": "code",
      "source": [
        "#20 Escreva um programa com while que simule um menu de opções: (1) Sacar, (2) Depositar, (3) Sair. O menu deve ser mostrado repetidamente até que o usuário escolha a opção 3 para sair."
      ],
      "metadata": {
        "id": "yLAwo_19jr17"
      },
      "execution_count": null,
      "outputs": []
    }
  ]
}
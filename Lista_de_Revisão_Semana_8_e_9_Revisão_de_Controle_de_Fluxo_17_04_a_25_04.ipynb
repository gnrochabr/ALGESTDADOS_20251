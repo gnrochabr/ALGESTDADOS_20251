{
  "nbformat": 4,
  "nbformat_minor": 0,
  "metadata": {
    "colab": {
      "provenance": [],
      "authorship_tag": "ABX9TyNMGXnFcSNP7OVQymTKK3Ec",
      "include_colab_link": true
    },
    "kernelspec": {
      "name": "python3",
      "display_name": "Python 3"
    },
    "language_info": {
      "name": "python"
    }
  },
  "cells": [
    {
      "cell_type": "markdown",
      "metadata": {
        "id": "view-in-github",
        "colab_type": "text"
      },
      "source": [
        "<a href=\"https://colab.research.google.com/github/gnrochabr/ALGESTDADOS_20251/blob/main/Lista_de_Revis%C3%A3o_Semana_8_e_9_Revis%C3%A3o_de_Controle_de_Fluxo_17_04_a_25_04.ipynb\" target=\"_parent\"><img src=\"https://colab.research.google.com/assets/colab-badge.svg\" alt=\"Open In Colab\"/></a>"
      ]
    },
    {
      "cell_type": "code",
      "execution_count": null,
      "metadata": {
        "id": "VxoxiAeMtZtC"
      },
      "outputs": [],
      "source": [
        "#1 Escreva um programa que leia a idade de uma pessoa e diga se ela é menor de idade (menos de 18 anos), maior de idade (entre 18 e 60) ou idosa (mais de 60 anos). Use if, elif e else.\n",
        "idade = int(input('Digite a sua idade:'))\n",
        "if idade < 18:\n",
        "  print('Menor de idade')\n",
        "elif idade < 60:\n",
        "  print('Maior de idade')\n",
        "else:\n",
        "  print('Idoso')"
      ]
    },
    {
      "cell_type": "code",
      "source": [
        "#2 Faça um programa que leia um número inteiro e diga se ele é par, ímpar ou igual a zero, usando uma estrutura condicional.\n",
        "numero = int(input('Digite um número:'))\n",
        "if numero == 0:\n",
        "  print('Zero')\n",
        "elif numero%2 == 0:\n",
        "  print('Par')\n",
        "else:\n",
        "  print('Ímpar')"
      ],
      "metadata": {
        "id": "YhaHAxXStzlo"
      },
      "execution_count": null,
      "outputs": []
    },
    {
      "cell_type": "code",
      "source": [
        "#3 Crie um programa que leia dois números inteiros e mostre qual dos dois é o maior, qual é o menor ou se os dois são iguais. Use estruturas if, elif e else.\n",
        "numeroA = int(input('Digite o 1º número:'))\n",
        "numeroB = int(input('Digite o 2º número:'))\n",
        "if numeroA == numeroB:\n",
        "  print('São iguais')\n",
        "elif numeroA > numeroB:\n",
        "  print(f'O {numeroA} é maior que o {numeroB}')\n",
        "else:\n",
        "  print(f'O {numeroB} é maior que o {numeroA}')"
      ],
      "metadata": {
        "id": "mn6WUUbguC6S"
      },
      "execution_count": null,
      "outputs": []
    },
    {
      "cell_type": "code",
      "source": [
        "#4 Escreva um programa que leia um número de 1 a 7 e mostre o dia da semana correspondente (por exemplo, 1 = segunda-feira, 2 = terça, etc). Se o número for inválido (menor que 1 ou maior que 7), mostre uma mensagem de erro. Use if, elif e else.\n",
        "dia = int(input('Digite um número de dia da semana (1-7):'))\n",
        "if dia == 1:\n",
        "  print('Domingo')\n",
        "elif dia == 2:\n",
        "  print('Segunda')\n",
        "elif dia == 3:\n",
        "  print('Terça')\n",
        "elif dia == 4:\n",
        "  print('Quarta')\n",
        "elif dia == 5:\n",
        "  print('Quinta')\n",
        "elif dia == 6:\n",
        "  print('Sexta')\n",
        "elif dia == 7:\n",
        "  print('Sábado')\n",
        "else:\n",
        "  print('Opção Inválida')"
      ],
      "metadata": {
        "id": "4Lu-gXEqumoG"
      },
      "execution_count": null,
      "outputs": []
    },
    {
      "cell_type": "code",
      "source": [
        "#5 Escreva um programa com for in range que imprima os números de 1 a 10, dizendo se cada número é par ou ímpar.\n",
        "for i in range(1,11):\n",
        "  if i%2 == 0:\n",
        "    print(f'{i} - Par')\n",
        "  else:\n",
        "    print(f'{i} - Ímpar')\n"
      ],
      "metadata": {
        "id": "fj0_sb8Dv7-B"
      },
      "execution_count": null,
      "outputs": []
    },
    {
      "cell_type": "code",
      "source": [
        "#6 Crie um programa com while que leia vários números inteiros. O programa deve continuar enquanto o número digitado não for igual a zero. Ao final, mostre quantos números positivos e quantos negativos foram digitados.\n",
        "num = 1\n",
        "positivos = 0\n",
        "negativos = 0\n",
        "while num!=0:\n",
        "  num = int(input('Digite um número: '))\n",
        "  if num > 0:\n",
        "    positivos+=1\n",
        "  elif num < 0:\n",
        "    negativos+=1\n",
        "print(f'{positivos} positivos e {negativos} negativos!')"
      ],
      "metadata": {
        "id": "m2vlMBQFwtHi"
      },
      "execution_count": null,
      "outputs": []
    }
  ]
}
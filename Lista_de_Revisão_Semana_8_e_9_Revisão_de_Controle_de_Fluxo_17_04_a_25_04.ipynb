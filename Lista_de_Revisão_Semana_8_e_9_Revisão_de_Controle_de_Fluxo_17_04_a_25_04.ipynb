{
  "nbformat": 4,
  "nbformat_minor": 0,
  "metadata": {
    "colab": {
      "provenance": [],
      "authorship_tag": "ABX9TyM6ZzQwRXE7l/rNn+CwrSAD",
      "include_colab_link": true
    },
    "kernelspec": {
      "name": "python3",
      "display_name": "Python 3"
    },
    "language_info": {
      "name": "python"
    }
  },
  "cells": [
    {
      "cell_type": "markdown",
      "metadata": {
        "id": "view-in-github",
        "colab_type": "text"
      },
      "source": [
        "<a href=\"https://colab.research.google.com/github/gnrochabr/ALGESTDADOS_20251/blob/main/Lista_de_Revis%C3%A3o_Semana_8_e_9_Revis%C3%A3o_de_Controle_de_Fluxo_17_04_a_25_04.ipynb\" target=\"_parent\"><img src=\"https://colab.research.google.com/assets/colab-badge.svg\" alt=\"Open In Colab\"/></a>"
      ]
    },
    {
      "cell_type": "code",
      "execution_count": null,
      "metadata": {
        "id": "VxoxiAeMtZtC"
      },
      "outputs": [],
      "source": [
        "#1 Escreva um programa que leia a idade de uma pessoa e diga se ela é menor de idade (menos de 18 anos), maior de idade (entre 18 e 60) ou idosa (mais de 60 anos). Use if, elif e else.\n",
        "idade = int(input('Digite a sua idade:'))\n",
        "if idade < 18:\n",
        "  print('Menor de idade')\n",
        "elif idade < 60:\n",
        "  print('Maior de idade')\n",
        "else:\n",
        "  print('Idoso')"
      ]
    },
    {
      "cell_type": "code",
      "source": [
        "#2 Faça um programa que leia um número inteiro e diga se ele é par, ímpar ou igual a zero, usando uma estrutura condicional.\n",
        "numero = int(input('Digite um número:'))\n",
        "if numero == 0:\n",
        "  print('Zero')\n",
        "elif numero%2 == 0:\n",
        "  print('Par')\n",
        "else:\n",
        "  print('Ímpar')"
      ],
      "metadata": {
        "id": "YhaHAxXStzlo"
      },
      "execution_count": null,
      "outputs": []
    },
    {
      "cell_type": "code",
      "source": [
        "#3 Crie um programa que leia dois números inteiros e mostre qual dos dois é o maior, qual é o menor ou se os dois são iguais. Use estruturas if, elif e else.\n",
        "numeroA = int(input('Digite o 1º número:'))\n",
        "numeroB = int(input('Digite o 2º número:'))\n",
        "if numeroA == numeroB:\n",
        "  print('São iguais')\n",
        "elif numeroA > numeroB:\n",
        "  print(f'O {numeroA} é maior que o {numeroB}')\n",
        "else:\n",
        "  print(f'O {numeroB} é maior que o {numeroA}')"
      ],
      "metadata": {
        "id": "mn6WUUbguC6S"
      },
      "execution_count": null,
      "outputs": []
    },
    {
      "cell_type": "code",
      "source": [
        "#4 Escreva um programa que leia um número de 1 a 7 e mostre o dia da semana correspondente (por exemplo, 1 = segunda-feira, 2 = terça, etc). Se o número for inválido (menor que 1 ou maior que 7), mostre uma mensagem de erro. Use if, elif e else.\n",
        "dia = int(input('Digite um número de dia da semana (1-7):'))\n",
        "if dia == 1:\n",
        "  print('Domingo')\n",
        "elif dia == 2:\n",
        "  print('Segunda')\n",
        "elif dia == 3:\n",
        "  print('Terça')\n",
        "elif dia == 4:\n",
        "  print('Quarta')\n",
        "elif dia == 5:\n",
        "  print('Quinta')\n",
        "elif dia == 6:\n",
        "  print('Sexta')\n",
        "elif dia == 7:\n",
        "  print('Sábado')\n",
        "else:\n",
        "  print('Opção Inválida')"
      ],
      "metadata": {
        "id": "4Lu-gXEqumoG"
      },
      "execution_count": null,
      "outputs": []
    },
    {
      "cell_type": "code",
      "source": [
        "#5 Escreva um programa com for in range que imprima os números de 1 a 10, dizendo se cada número é par ou ímpar.\n",
        "for i in range(1,11):\n",
        "  if i%2 == 0:\n",
        "    print(f'{i} - Par')\n",
        "  else:\n",
        "    print(f'{i} - Ímpar')\n"
      ],
      "metadata": {
        "id": "fj0_sb8Dv7-B"
      },
      "execution_count": null,
      "outputs": []
    },
    {
      "cell_type": "code",
      "source": [
        "#6 Crie um programa com while que leia vários números inteiros. O programa deve continuar enquanto o número digitado não for igual a zero. Ao final, mostre quantos números positivos e quantos negativos foram digitados.\n",
        "num = 1\n",
        "positivos = 0\n",
        "negativos = 0\n",
        "while num!=0:\n",
        "  num = int(input('Digite um número: '))\n",
        "  if num > 0:\n",
        "    positivos+=1\n",
        "  elif num < 0:\n",
        "    negativos+=1\n",
        "print(f'{positivos} positivos e {negativos} negativos!')"
      ],
      "metadata": {
        "id": "m2vlMBQFwtHi"
      },
      "execution_count": null,
      "outputs": []
    },
    {
      "cell_type": "code",
      "source": [
        "#7 Faça um programa com for que conte de 10 até 1 (ordem decrescente). Para cada número, diga se ele é múltiplo de 3 ou não.\n",
        "for i in range(10,0,-1):\n",
        "  if i%3==0:\n",
        "    print(f'{i} é múltiplo de 3.')\n",
        "  else:\n",
        "    print(f'{i} não é múltiplo de 3.')"
      ],
      "metadata": {
        "colab": {
          "base_uri": "https://localhost:8080/"
        },
        "id": "E2GxVL3yjsZN",
        "outputId": "e8edaa33-d221-4326-c58d-ad0ef9fae2ae"
      },
      "execution_count": null,
      "outputs": [
        {
          "output_type": "stream",
          "name": "stdout",
          "text": [
            "10 não é múltiplo de 3.\n",
            "9 é múltiplo de 3.\n",
            "8 não é múltiplo de 3.\n",
            "7 não é múltiplo de 3.\n",
            "6 é múltiplo de 3.\n",
            "5 não é múltiplo de 3.\n",
            "4 não é múltiplo de 3.\n",
            "3 é múltiplo de 3.\n",
            "2 não é múltiplo de 3.\n",
            "1 não é múltiplo de 3.\n"
          ]
        }
      ]
    },
    {
      "cell_type": "code",
      "source": [
        "#8 Escreva um programa com while True que peça a senha do usuário até que ele digite a senha correta (por exemplo, \"1234\"). Quando a senha for correta, o programa deve mostrar uma mensagem de acesso permitido e encerrar.\n",
        "while True:\n",
        "  password = input('Digite sua Senha: ')\n",
        "  if password == '1234':\n",
        "    print('Senha Correta, Acesso permitido')\n",
        "    break\n",
        "  else:\n",
        "    print('Senha Incorreta - Acesso Negado')"
      ],
      "metadata": {
        "id": "XxLU2H0ijsW6"
      },
      "execution_count": null,
      "outputs": []
    },
    {
      "cell_type": "code",
      "source": [
        "#9 Crie um programa com for in range para ler 5 números inteiros, um por vez. Ao final, mostre quantos desses números são maiores que 100.\n",
        "lista = [72,58,120,210,89] #Lista com 5 números inteiros\n",
        "conta_maiores = 0 #Inicializa o contador de número maiores que 100\n",
        "for i in range(0,len(lista)):#Percorre os índices da lista e usa item a item\n",
        "#similar a >>> for i in range(0,5)\n",
        "  if lista[i] > 100: #Verifica se o item selecionado é maior que 100.\n",
        "    conta_maiores+=1 #Se o item for maior que 100 amplia o contador.\n",
        "print(f'Na lista tem {conta_maiores} números maiores que 100') #Imprime o quantitativo no fim"
      ],
      "metadata": {
        "id": "XYrbnD0OjsUb"
      },
      "execution_count": null,
      "outputs": []
    },
    {
      "cell_type": "code",
      "source": [
        "#10 Escreva um programa com while que leia a idade de várias pessoas. O programa deve continuar até que uma idade negativa seja digitada. No final, mostre a média das idades válidas digitadas.\n",
        "idade = 0 #inicializando o repetidor\n",
        "soma = 0 #pegar a soma das idades\n",
        "cont = 0 #contar quantas idades foram digitadas\n",
        "\n",
        "while idade >= 0: #Enquanto não for negativo\n",
        "  idade = int(input('Digite a idade: '))\n",
        "  if idade > 0:\n",
        "    cont+=1\n",
        "    soma+=idade\n",
        "\n",
        "if soma > 0:\n",
        "  media = soma/cont\n",
        "  print(f'Foram digitadas {cont} idades, com média de {(media):.1f} anos.')\n",
        "else:\n",
        "  print('Não foram digitadas idades válidas')"
      ],
      "metadata": {
        "colab": {
          "base_uri": "https://localhost:8080/"
        },
        "id": "5cmHP8sDjsSK",
        "outputId": "25b27741-e708-4f3a-e9e7-4b45f2228e8a"
      },
      "execution_count": null,
      "outputs": [
        {
          "output_type": "stream",
          "name": "stdout",
          "text": [
            "Digite a idade: -1\n",
            "Não foram digitadas idades válidas\n"
          ]
        }
      ]
    },
    {
      "cell_type": "code",
      "source": [
        "#11 Escreva um programa com for que leia um número inteiro e exiba a tabuada de multiplicação desse número de 1 até 10.\n",
        "number = int(input('Digite o número que queira tabular: '))\n",
        "for i in range(1,11):\n",
        "  print(f'{number} x {i} = {number*i}')"
      ],
      "metadata": {
        "id": "DvPszXbsjsPz"
      },
      "execution_count": null,
      "outputs": []
    },
    {
      "cell_type": "code",
      "source": [
        "#12 Escreva um programa com while que simule um caixa eletrônico. Peça ao usuário o valor do saque (apenas valores múltiplos de 2) e calcule quantas notas de 50, 20, 10, 5 e 2 são necessárias. Não use listas. Mostre o total de cada nota usada.\n",
        "valor = int(input('Digite o valor desejado (inteiro e múltiplo de 2): '))\n",
        "cinquenta = 0\n",
        "vinte = 0\n",
        "dez = 0\n",
        "cinco = 0\n",
        "dois = 0\n",
        "while valor>0:\n",
        "  if valor%50 == 0:\n",
        "    valor-=50\n",
        "    cinquenta+=1\n",
        "  elif valor%20 == 0:\n",
        "    valor-=20\n",
        "    vinte+=1\n",
        "  elif valor%10 == 0:\n",
        "    valor-=10\n",
        "    dez+=1\n",
        "  elif valor%5 == 0:\n",
        "    valor-=5\n",
        "    cinco+=1\n",
        "  elif valor%2 == 0:\n",
        "    valor-=2\n",
        "    dois+=1\n",
        "print(f'Saque: {cinquenta} notas de 50, {vinte} notas de 20, {dez} notas de 10, {cinco} notas de 5 e {dois} notas de 2.')"
      ],
      "metadata": {
        "colab": {
          "base_uri": "https://localhost:8080/"
        },
        "id": "yEceIhDmjsNj",
        "outputId": "4aefbd04-5c82-41b5-c486-dd067a710253"
      },
      "execution_count": null,
      "outputs": [
        {
          "output_type": "stream",
          "name": "stdout",
          "text": [
            "Digite o valor desejado (inteiro e múltiplo de 2): 4888\n",
            "Saque: 96 notas de 50, 4 notas de 20, 0 notas de 10, 0 notas de 5 e 4 notas de 2.\n"
          ]
        }
      ]
    },
    {
      "cell_type": "code",
      "source": [
        "#13 Escreva um programa com for que leia 10 números inteiros e diga ao final quantos deles são pares e quantos são ímpares.\n",
        "par = 0\n",
        "impar = 0\n",
        "for i in range(10):\n",
        "  num = int(input(f'Digite o {i+1}° número:'))\n",
        "  if num%2==0:\n",
        "    par+=1\n",
        "  else:\n",
        "    impar+=1\n",
        "print(f'Pares: {par} | Ímpares: {impar}')\n"
      ],
      "metadata": {
        "id": "-qBAY0OCjsLE"
      },
      "execution_count": null,
      "outputs": []
    },
    {
      "cell_type": "code",
      "source": [
        "#14 Crie um programa com while que leia um número inteiro positivo. Se o usuário digitar um número negativo, o programa deve mostrar uma mensagem de erro e continuar pedindo até que um número válido seja digitado.\n",
        "numero = int(input('Digite um número inteiro positivo:'))\n",
        "while numero < 0:\n",
        "  numero = int(input('Número inválido - Digite um número inteiro positivo:'))\n"
      ],
      "metadata": {
        "id": "MbQK28jukRBX",
        "colab": {
          "base_uri": "https://localhost:8080/"
        },
        "outputId": "99b02377-0f07-4e43-9a3b-5cd87f586d73"
      },
      "execution_count": null,
      "outputs": [
        {
          "name": "stdout",
          "output_type": "stream",
          "text": [
            "Digite um número inteiro positivo:-1\n",
            "Número inválido - Digite um número inteiro positivo:-3\n",
            "Número inválido - Digite um número inteiro positivo:5\n"
          ]
        }
      ]
    },
    {
      "cell_type": "code",
      "source": [
        "#15 Escreva um programa com for e enumerate que mostre os números de 5 até 15. Para cada número, diga sua posição na sequência (iniciando do 0) e se ele é par ou ímpar.\n",
        "#Criando a lista de 5 a 16:\n",
        "lista = []\n",
        "for i in range(5,16):\n",
        "  lista.append(i)\n",
        "\n",
        "#Lendo a lista e verificando os dados:\n",
        "for indice, valor in enumerate(lista):\n",
        "  if valor%2==0:\n",
        "    print(f'O {valor} está na posição {indice} e é par!')\n",
        "  else:\n",
        "    print(f'O {valor} está na posição {indice} e é ímpar!')\n"
      ],
      "metadata": {
        "id": "4l_-1gQkjsI7"
      },
      "execution_count": null,
      "outputs": []
    },
    {
      "cell_type": "code",
      "source": [
        "#16 Escreva um programa com while que simule uma votação. O usuário pode votar no candidato A (1), candidato B (2) ou encerrar (0). O programa deve continuar até que o número 0 seja digitado. Ao final, mostre a quantidade de votos para cada candidato.\n",
        "candidato1 = 0 #Candidato A\n",
        "candidato2 = 0 #Candidato B\n",
        "while True:\n",
        "  voto = int(input('Digite seu voto: '))\n",
        "  if voto == 1:\n",
        "    candidato1+=1\n",
        "  elif voto == 2:\n",
        "    candidato2+=1\n",
        "  elif voto == 0:\n",
        "    break\n",
        "  else:\n",
        "    print('Candidato não existe - Voto Invalidado')\n",
        "print(f'Candidato A: {candidato1}\\nCandidato B: {candidato2}')\n",
        "\n",
        "#Invenção de moda\n",
        "if candidato1 > candidato2:\n",
        "  print('Candidato A - Venceu!')\n",
        "elif candidato1 < candidato2:\n",
        "  print('Candidato B - Venceu!')\n",
        "else:\n",
        "  print('Empate!')\n"
      ],
      "metadata": {
        "id": "qmqSYjxjjsGi",
        "colab": {
          "base_uri": "https://localhost:8080/"
        },
        "outputId": "44cfff5d-fc6c-4c72-e74d-a48bf8d7171c"
      },
      "execution_count": null,
      "outputs": [
        {
          "output_type": "stream",
          "name": "stdout",
          "text": [
            "Digite seu voto: 1\n",
            "Digite seu voto: 1\n",
            "Digite seu voto: 2\n",
            "Digite seu voto: 3\n",
            "Candidato não existe - Voto Invalidado\n",
            "Digite seu voto: 0\n",
            "Candidato A: 2\n",
            "Candidato B: 1\n",
            "Candidato A - Venceu!\n"
          ]
        }
      ]
    },
    {
      "cell_type": "code",
      "source": [
        "#17 Escreva um programa com for in range que percorra os números de 1 a 50. Para cada número, diga se ele é divisível por 5, por 7, por ambos, ou por nenhum dos dois.\n",
        "for i in range(1,51):\n",
        "  if i % 5 == 0 and i%7 == 0:\n",
        "    print(f'{i} é divisível por 5 e 7.')\n",
        "  elif i%5 == 0:\n",
        "    print(f'{i} é divisível apenas por 5.')\n",
        "  elif i%7 == 0:\n",
        "    print(f'{i} é divisível apenas por 7.')\n",
        "  else:\n",
        "    print(f'{i} não é divisível por 5 ou 7.')"
      ],
      "metadata": {
        "id": "GO0IQNu8jsEC"
      },
      "execution_count": null,
      "outputs": []
    },
    {
      "cell_type": "code",
      "source": [
        "#18 Escreva um programa com while que leia dois números inteiros e diga qual é o maior. Depois, pergunte ao usuário se ele deseja comparar outros dois números. O programa só termina se a resposta for diferente de \"s\".\n",
        "while True:\n",
        "  numA =  int(input('Digite o primeiro número: '))\n",
        "  numB =  int(input('Digite o segundo número: '))\n",
        "  if numA > numB:\n",
        "    print(f'Maior: {numA}')\n",
        "  else:\n",
        "    print(f'Maior: {numB}')\n",
        "  var = input('Deseja continuar? s/n:')\n",
        "  if var != 's':\n",
        "    break\n"
      ],
      "metadata": {
        "id": "jWWbC0zzjsBs"
      },
      "execution_count": null,
      "outputs": []
    },
    {
      "cell_type": "code",
      "source": [
        "#19 Escreva um programa com for in que leia uma palavra de até 10 letras, pedindo uma letra por vez. Ao final, o programa deve mostrar quais letras são vogais e quais são consoantes. Não use listas.\n",
        "palavra = 'Mulambo'\n",
        "vogais = 0\n",
        "consoantes = 0\n",
        "for i in palavra:\n",
        "  if i.lower() in 'aeiou':\n",
        "    vogais+=1\n",
        "  else:\n",
        "    consoantes+=1\n",
        "print(f'Vogais:{vogais} / Consoantes:{consoantes}')"
      ],
      "metadata": {
        "id": "-Whmai8Tjr4C",
        "colab": {
          "base_uri": "https://localhost:8080/"
        },
        "outputId": "8df3d5c5-bfe1-4d72-e85d-708ac595bc1e"
      },
      "execution_count": 7,
      "outputs": [
        {
          "output_type": "stream",
          "name": "stdout",
          "text": [
            "Vogais:3 / Consoantes:4\n"
          ]
        }
      ]
    },
    {
      "cell_type": "code",
      "source": [
        "#20 Escreva um programa com while que simule um menu de opções: (1) Sacar, (2) Depositar, (3) Sair. O menu deve ser mostrado repetidamente até que o usuário escolha a opção 3 para sair.\n",
        "while True:\n",
        "  print('Opções:\\n(1) - Sacar\\n(2) - Depositar\\n(3) - Sair')\n",
        "  op = int(input('Digite a opção desejada:'))\n",
        "  if op == 3:\n",
        "    break"
      ],
      "metadata": {
        "id": "yLAwo_19jr17",
        "colab": {
          "base_uri": "https://localhost:8080/"
        },
        "outputId": "f72bdbbe-e35b-4b4f-d2ae-c35a9879dbe1"
      },
      "execution_count": 10,
      "outputs": [
        {
          "name": "stdout",
          "output_type": "stream",
          "text": [
            "Opções:\n",
            "(1) - Sacar\n",
            "(2) - Depositar\n",
            "(3) - Sair\n",
            "Digite a opção desejada:1\n",
            "Opções:\n",
            "(1) - Sacar\n",
            "(2) - Depositar\n",
            "(3) - Sair\n",
            "Digite a opção desejada:2\n",
            "Opções:\n",
            "(1) - Sacar\n",
            "(2) - Depositar\n",
            "(3) - Sair\n",
            "Digite a opção desejada:3\n"
          ]
        }
      ]
    }
  ]
}
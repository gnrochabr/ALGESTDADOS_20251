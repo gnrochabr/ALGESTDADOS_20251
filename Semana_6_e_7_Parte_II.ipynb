{
  "nbformat": 4,
  "nbformat_minor": 0,
  "metadata": {
    "colab": {
      "provenance": [],
      "authorship_tag": "ABX9TyN38sFY/3+P6kykgDHzyML9",
      "include_colab_link": true
    },
    "kernelspec": {
      "name": "python3",
      "display_name": "Python 3"
    },
    "language_info": {
      "name": "python"
    }
  },
  "cells": [
    {
      "cell_type": "markdown",
      "metadata": {
        "id": "view-in-github",
        "colab_type": "text"
      },
      "source": [
        "<a href=\"https://colab.research.google.com/github/gnrochabr/ALGESTDADOS_20251/blob/main/Semana_6_e_7_Parte_II.ipynb\" target=\"_parent\"><img src=\"https://colab.research.google.com/assets/colab-badge.svg\" alt=\"Open In Colab\"/></a>"
      ]
    },
    {
      "cell_type": "code",
      "execution_count": 25,
      "metadata": {
        "colab": {
          "base_uri": "https://localhost:8080/"
        },
        "id": "jI8_nqzlE0n1",
        "outputId": "b83836bf-6dc3-4438-d77f-3bc00186d93b"
      },
      "outputs": [
        {
          "output_type": "stream",
          "name": "stdout",
          "text": [
            "Quantidade de pessoas: 12\n",
            "Foi reservado 3 mesas para 12 pessoas\n",
            "Ainda restam 2 mesas com 8 lugares.\n",
            "Deseja continuar? (S/N)n\n",
            "Xau!\n"
          ]
        }
      ],
      "source": [
        "mesas = 5\n",
        "lugares = mesas * 4\n",
        "while True:\n",
        "  reservas = int(input('Quantidade de pessoas: '))\n",
        "  if reservas <= lugares:\n",
        "    if reservas%4 == 0:\n",
        "      print(f'Foi reservado {reservas/4:.0f} mesas para {reservas} pessoas')\n",
        "      mesas = mesas - (reservas/4)\n",
        "      lugares -= reservas\n",
        "    else:\n",
        "      print(f'Foi reservado {reservas/4+1:.0f} mesas para {reservas} pessoas')\n",
        "      reservas = reservas + (4-(reservas%4))\n",
        "      mesas = mesas - (reservas/4)\n",
        "      lugares -= reservas\n",
        "    print(f'Ainda restam {mesas:.0f} mesas com {lugares} lugares.')\n",
        "\n",
        "  else:\n",
        "    print(f'Não comporta, só restam {mesas:.0f} mesas com {lugares} lugares.')\n",
        "\n",
        "  opc = input('Deseja continuar? (S/N)')\n",
        "  if opc.upper() == 'N':\n",
        "    print('Xau!')\n",
        "    break"
      ]
    }
  ]
}
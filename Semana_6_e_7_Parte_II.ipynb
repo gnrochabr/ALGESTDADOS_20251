{
  "nbformat": 4,
  "nbformat_minor": 0,
  "metadata": {
    "colab": {
      "provenance": [],
      "include_colab_link": true
    },
    "kernelspec": {
      "name": "python3",
      "display_name": "Python 3"
    },
    "language_info": {
      "name": "python"
    }
  },
  "cells": [
    {
      "cell_type": "markdown",
      "metadata": {
        "id": "view-in-github",
        "colab_type": "text"
      },
      "source": [
        "<a href=\"https://colab.research.google.com/github/gnrochabr/ALGESTDADOS_20251/blob/main/Semana_6_e_7_Parte_II.ipynb\" target=\"_parent\"><img src=\"https://colab.research.google.com/assets/colab-badge.svg\" alt=\"Open In Colab\"/></a>"
      ]
    },
    {
      "cell_type": "code",
      "execution_count": 3,
      "metadata": {
        "colab": {
          "base_uri": "https://localhost:8080/"
        },
        "id": "jI8_nqzlE0n1",
        "outputId": "c5261f9e-fad5-4a45-d6ed-fd3687c8a19f"
      },
      "outputs": [
        {
          "output_type": "stream",
          "name": "stdout",
          "text": [
            "Quantidade de pessoas: 15\n",
            "Foi reservado 4 mesas para 15 pessoas\n",
            "Ainda restam 1 mesas com 4 lugares.\n",
            "Deseja continuar? (S/N) n\n",
            "Tchau!\n"
          ]
        }
      ],
      "source": [
        "mesas = 5\n",
        "lugares = mesas * 4\n",
        "\n",
        "while True:\n",
        "    reservas = int(input('Quantidade de pessoas: '))\n",
        "\n",
        "    if reservas <= lugares:\n",
        "        mesas_necessarias = reservas // 4\n",
        "        if reservas % 4 != 0:\n",
        "            mesas_necessarias += 1\n",
        "            pessoas_ajustadas = mesas_necessarias * 4\n",
        "        else:\n",
        "            pessoas_ajustadas = reservas\n",
        "\n",
        "        if mesas_necessarias <= mesas:\n",
        "            print(f'Foi reservado {mesas_necessarias} mesas para {reservas} pessoas')\n",
        "            mesas -= mesas_necessarias\n",
        "            lugares -= pessoas_ajustadas\n",
        "            print(f'Ainda restam {mesas} mesas com {lugares} lugares.')\n",
        "        else:\n",
        "            print(f'Não há mesas suficientes para acomodar {reservas} pessoas.')\n",
        "            print(f'Só restam {mesas} mesas com {lugares} lugares.')\n",
        "    else:\n",
        "        print(f'Não comporta, só restam {mesas} mesas com {lugares} lugares.')\n",
        "\n",
        "    opc = input('Deseja continuar? (S/N) ')\n",
        "    if opc.upper() == 'N':\n",
        "        print('Tchau!')\n",
        "        break\n"
      ]
    }
  ]
}
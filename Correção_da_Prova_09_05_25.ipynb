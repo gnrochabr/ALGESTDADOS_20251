{
  "nbformat": 4,
  "nbformat_minor": 0,
  "metadata": {
    "colab": {
      "provenance": [],
      "authorship_tag": "ABX9TyOeHGbFA+bFPGTZfUFxaQMw",
      "include_colab_link": true
    },
    "kernelspec": {
      "name": "python3",
      "display_name": "Python 3"
    },
    "language_info": {
      "name": "python"
    }
  },
  "cells": [
    {
      "cell_type": "markdown",
      "metadata": {
        "id": "view-in-github",
        "colab_type": "text"
      },
      "source": [
        "<a href=\"https://colab.research.google.com/github/gnrochabr/ALGESTDADOS_20251/blob/main/Corre%C3%A7%C3%A3o_da_Prova_09_05_25.ipynb\" target=\"_parent\"><img src=\"https://colab.research.google.com/assets/colab-badge.svg\" alt=\"Open In Colab\"/></a>"
      ]
    },
    {
      "cell_type": "markdown",
      "source": [
        "1 - Resultado: Texto. Pois como as variáveis são do tipo texto, 10 e 5 são concatenados, resultando em 105."
      ],
      "metadata": {
        "id": "0062aVaG1P_Y"
      }
    },
    {
      "cell_type": "markdown",
      "source": [
        "2 - O método LEN conta a quantidade de caracteres que possui uma variável. Como a quantidade de caracteres da palavra ANA é 3, imprime a opção NOME CURTO."
      ],
      "metadata": {
        "id": "cNd963vR1b7A"
      }
    },
    {
      "cell_type": "markdown",
      "source": [
        "3 - Resultado: 0,1,3. Pois o gatilho CONTINUE é acionado quando o valor de i é igual a 2, pulando a sua impressão."
      ],
      "metadata": {
        "id": "WmB1BBfK1xsf"
      }
    },
    {
      "cell_type": "markdown",
      "source": [
        "4 - A função ENUMERATE faz a busca de todos os índices (IDX) e dos valores (LETRA) da palavra determinada (PYTHON). Portanto, quando a condição diz que o índice indicado é igual a 3, logo, o resultado é igual a LETRA no IDX 3, na palavra PYTHON, a LETRA no IDX 3 é H."
      ],
      "metadata": {
        "id": "IOTjprr52K_A"
      }
    },
    {
      "cell_type": "markdown",
      "source": [
        "5 - O resultado impresso será 1,2,4. Pois o contador passa de 0 para 1 no ínicio do código, e durante a sequência de loop tem duas condicionantes, uma que usa o CONTINUE para impedir a impressão do número 3, e outra que interrompe o loop antes impressão do número 5."
      ],
      "metadata": {
        "id": "JAPB6m-A2xJ5"
      }
    },
    {
      "cell_type": "markdown",
      "source": [
        "6 - DATETIME. Esse tipo de dado pode ser usado para armazenar informações de data, hora ou data e hora. Como exemplo podemos usar esse tipo para armazenar o dia e horário de um determinado registro."
      ],
      "metadata": {
        "id": "GVf2Wfm23I7k"
      }
    },
    {
      "cell_type": "code",
      "execution_count": 2,
      "metadata": {
        "colab": {
          "base_uri": "https://localhost:8080/"
        },
        "id": "kqsF86Hq1LR9",
        "outputId": "316f3e47-fb8d-4826-9535-e725569943fa"
      },
      "outputs": [
        {
          "output_type": "stream",
          "name": "stdout",
          "text": [
            "2025\n"
          ]
        }
      ],
      "source": [
        "# 7\n",
        "from datetime import datetime\n",
        "ano = datetime.now().year\n",
        "print(ano)"
      ]
    },
    {
      "cell_type": "code",
      "source": [
        "#8\n",
        "for i in range(1,11):\n",
        "  if i%3 == 0:\n",
        "    continue\n",
        "  print(i)"
      ],
      "metadata": {
        "colab": {
          "base_uri": "https://localhost:8080/"
        },
        "id": "fp3xDn7A4lY0",
        "outputId": "6e582823-2d24-448b-9efd-1903a6db80ab"
      },
      "execution_count": 5,
      "outputs": [
        {
          "output_type": "stream",
          "name": "stdout",
          "text": [
            "1\n",
            "2\n",
            "4\n",
            "5\n",
            "7\n",
            "8\n",
            "10\n"
          ]
        }
      ]
    },
    {
      "cell_type": "code",
      "source": [
        "#9\n",
        "frase = input('Digite uma frase:')\n",
        "if len(frase) > 10:\n",
        "  print(len(frase))"
      ],
      "metadata": {
        "colab": {
          "base_uri": "https://localhost:8080/"
        },
        "id": "S4HLhzCk5Cf-",
        "outputId": "f9c8da12-71ac-4553-e441-1467679567fb"
      },
      "execution_count": 7,
      "outputs": [
        {
          "output_type": "stream",
          "name": "stdout",
          "text": [
            "Digite uma frase:O dia está lindo\n",
            "16\n"
          ]
        }
      ]
    },
    {
      "cell_type": "code",
      "source": [
        "#10\n",
        "POTE_A = input('Digite um valor A:')\n",
        "POTE_B = input('Digite um valor B:')\n",
        "AUX = POTE_A\n",
        "POTE_A = POTE_B\n",
        "POTE_B = AUX\n",
        "print(f'Pote_A:{POTE_A}\\nPote_B:{POTE_B}')"
      ],
      "metadata": {
        "colab": {
          "base_uri": "https://localhost:8080/"
        },
        "id": "oKCYZkNW5SNb",
        "outputId": "5f820c47-f144-4733-d83b-9e6b6e648a00"
      },
      "execution_count": 4,
      "outputs": [
        {
          "output_type": "stream",
          "name": "stdout",
          "text": [
            "Digite um valor A:5\n",
            "Digite um valor B:6\n",
            "Pote_A:6\n",
            "Pote_B:5\n"
          ]
        }
      ]
    }
  ]
}